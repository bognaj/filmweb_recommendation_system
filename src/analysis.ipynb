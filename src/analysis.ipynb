{
 "cells": [
  {
   "cell_type": "markdown",
   "metadata": {
    "collapsed": false,
    "pycharm": {
     "name": "#%% md\n"
    }
   },
   "source": [
    "# analysis, dirty code etc"
   ]
  },
  {
   "cell_type": "code",
   "execution_count": 1,
   "metadata": {
    "collapsed": false,
    "pycharm": {
     "name": "#%%\n"
    }
   },
   "outputs": [],
   "source": [
    "from __future__ import annotations\n",
    "\n",
    "%load_ext autoreload\n",
    "%autoreload 2"
   ]
  },
  {
   "cell_type": "code",
   "execution_count": 2,
   "metadata": {
    "collapsed": false,
    "pycharm": {
     "name": "#%%\n"
    }
   },
   "outputs": [],
   "source": [
    "from typing import Union\n",
    "\n",
    "from scrap_data.data_import import load_data\n",
    "from abc import ABC, abstractmethod\n",
    "import pandas as pd\n",
    "import numpy as np\n",
    "\n",
    "from surprise import KNNWithMeans, SVD, Dataset, Reader, accuracy\n",
    "from surprise.model_selection import train_test_split"
   ]
  },
  {
   "cell_type": "code",
   "execution_count": 3,
   "metadata": {
    "collapsed": false,
    "pycharm": {
     "name": "#%%\n"
    }
   },
   "outputs": [],
   "source": [
    "# import data\n",
    "df_user, df_movie = load_data()"
   ]
  },
  {
   "cell_type": "markdown",
   "metadata": {
    "collapsed": false,
    "pycharm": {
     "name": "#%% md\n"
    }
   },
   "source": [
    "Data cleaning"
   ]
  },
  {
   "cell_type": "code",
   "execution_count": 4,
   "metadata": {
    "collapsed": false,
    "pycharm": {
     "name": "#%%\n"
    }
   },
   "outputs": [],
   "source": [
    "df_movie = df_movie[df_movie[\"Avg_rating\"] <= 10]\n",
    "\n",
    "concat = lambda df, col1, col2: df[col1].astype(str) + \"_\" + df[col2].astype(str)\n",
    "\n",
    "df_movie[\"Title\"] = concat(df_movie, \"Title\", \"Year\")\n",
    "df_user[\"Title\"] = concat(df_user, \"Title\", \"Year\")\n",
    "df_user = df_user.drop(columns=\"Year\")"
   ]
  },
  {
   "cell_type": "markdown",
   "metadata": {
    "collapsed": false,
    "pycharm": {
     "name": "#%% md\n"
    }
   },
   "source": [
    "Feature engineering"
   ]
  },
  {
   "cell_type": "code",
   "execution_count": 5,
   "metadata": {
    "collapsed": false,
    "pycharm": {
     "name": "#%%\n"
    }
   },
   "outputs": [],
   "source": [
    "# percentage difference between user rating and average rating (user-avg)\n",
    "\n",
    "df_user_temp = df_user.merge(\n",
    "    df_movie.groupby([\"Title\"])[\"Avg_rating\"].max().reset_index(),\n",
    "    on=[\"Title\"],\n",
    "    how=\"left\",\n",
    ")\n",
    "\n",
    "df_user[\"Avg_user_rating_diff\"] = df_user_temp[\"Rating\"] - df_user_temp[\"Avg_rating\"]\n",
    "\n",
    "df_user = df_user.dropna()"
   ]
  },
  {
   "cell_type": "code",
   "execution_count": 6,
   "metadata": {
    "collapsed": false,
    "pycharm": {
     "name": "#%%\n"
    }
   },
   "outputs": [],
   "source": [
    "# Mapping users to numbers\n",
    "user_dict = {user: i for i, user in enumerate(df_user.User.unique())}\n",
    "movie_dict = {title: i for i, title in enumerate(df_movie.Title.unique())}\n",
    "\n",
    "df_user[[\"User\", \"Title\"]] = df_user[[\"User\", \"Title\"]].agg(\n",
    "    {\"User\": lambda x: user_dict[x], \"Title\": lambda x: movie_dict[x]}\n",
    ")\n",
    "df_movie[[\"Title\"]] = df_movie[[\"Title\"]].agg({\"Title\": lambda x: movie_dict[x]})"
   ]
  },
  {
   "cell_type": "markdown",
   "metadata": {
    "collapsed": false,
    "pycharm": {
     "name": "#%% md\n"
    }
   },
   "source": [
    "Preparing final users to validate. Us."
   ]
  },
  {
   "cell_type": "code",
   "execution_count": 7,
   "metadata": {
    "collapsed": false,
    "pycharm": {
     "name": "#%%\n"
    }
   },
   "outputs": [],
   "source": [
    "val_user_list = [user_dict[it] for it in [\"sokoly35\", \"honorciak\", \"piotrr99\"]]\n",
    "df_user_validation = df_user[df_user[\"User\"].isin(val_user_list)]\n",
    "\n",
    "# exclude us from df_user\n",
    "df_user = df_user[~df_user.index.isin(df_user_validation.index)]"
   ]
  },
  {
   "cell_type": "code",
   "execution_count": 8,
   "metadata": {
    "collapsed": false,
    "pycharm": {
     "name": "#%%\n"
    }
   },
   "outputs": [
    {
     "data": {
      "text/html": [
       "<div>\n",
       "<style scoped>\n",
       "    .dataframe tbody tr th:only-of-type {\n",
       "        vertical-align: middle;\n",
       "    }\n",
       "\n",
       "    .dataframe tbody tr th {\n",
       "        vertical-align: top;\n",
       "    }\n",
       "\n",
       "    .dataframe thead th {\n",
       "        text-align: right;\n",
       "    }\n",
       "</style>\n",
       "<table border=\"1\" class=\"dataframe\">\n",
       "  <thead>\n",
       "    <tr style=\"text-align: right;\">\n",
       "      <th></th>\n",
       "      <th>User</th>\n",
       "      <th>Title</th>\n",
       "      <th>Rating</th>\n",
       "      <th>Avg_user_rating_diff</th>\n",
       "    </tr>\n",
       "  </thead>\n",
       "  <tbody>\n",
       "    <tr>\n",
       "      <th>9900</th>\n",
       "      <td>82</td>\n",
       "      <td>5744</td>\n",
       "      <td>9.0</td>\n",
       "      <td>0.2</td>\n",
       "    </tr>\n",
       "    <tr>\n",
       "      <th>9901</th>\n",
       "      <td>82</td>\n",
       "      <td>7433</td>\n",
       "      <td>10.0</td>\n",
       "      <td>1.4</td>\n",
       "    </tr>\n",
       "    <tr>\n",
       "      <th>9902</th>\n",
       "      <td>82</td>\n",
       "      <td>318</td>\n",
       "      <td>6.0</td>\n",
       "      <td>-0.5</td>\n",
       "    </tr>\n",
       "    <tr>\n",
       "      <th>9903</th>\n",
       "      <td>82</td>\n",
       "      <td>2148</td>\n",
       "      <td>3.0</td>\n",
       "      <td>-4.6</td>\n",
       "    </tr>\n",
       "    <tr>\n",
       "      <th>9904</th>\n",
       "      <td>82</td>\n",
       "      <td>1171</td>\n",
       "      <td>7.0</td>\n",
       "      <td>0.1</td>\n",
       "    </tr>\n",
       "    <tr>\n",
       "      <th>...</th>\n",
       "      <td>...</td>\n",
       "      <td>...</td>\n",
       "      <td>...</td>\n",
       "      <td>...</td>\n",
       "    </tr>\n",
       "    <tr>\n",
       "      <th>32486</th>\n",
       "      <td>261</td>\n",
       "      <td>6264</td>\n",
       "      <td>8.0</td>\n",
       "      <td>0.4</td>\n",
       "    </tr>\n",
       "    <tr>\n",
       "      <th>32487</th>\n",
       "      <td>261</td>\n",
       "      <td>2469</td>\n",
       "      <td>7.0</td>\n",
       "      <td>-0.6</td>\n",
       "    </tr>\n",
       "    <tr>\n",
       "      <th>32488</th>\n",
       "      <td>261</td>\n",
       "      <td>2409</td>\n",
       "      <td>7.0</td>\n",
       "      <td>-0.4</td>\n",
       "    </tr>\n",
       "    <tr>\n",
       "      <th>32489</th>\n",
       "      <td>261</td>\n",
       "      <td>7447</td>\n",
       "      <td>5.0</td>\n",
       "      <td>-2.2</td>\n",
       "    </tr>\n",
       "    <tr>\n",
       "      <th>32490</th>\n",
       "      <td>261</td>\n",
       "      <td>1268</td>\n",
       "      <td>7.0</td>\n",
       "      <td>-0.6</td>\n",
       "    </tr>\n",
       "  </tbody>\n",
       "</table>\n",
       "<p>247 rows × 4 columns</p>\n",
       "</div>"
      ],
      "text/plain": [
       "       User  Title  Rating  Avg_user_rating_diff\n",
       "9900     82   5744     9.0                   0.2\n",
       "9901     82   7433    10.0                   1.4\n",
       "9902     82    318     6.0                  -0.5\n",
       "9903     82   2148     3.0                  -4.6\n",
       "9904     82   1171     7.0                   0.1\n",
       "...     ...    ...     ...                   ...\n",
       "32486   261   6264     8.0                   0.4\n",
       "32487   261   2469     7.0                  -0.6\n",
       "32488   261   2409     7.0                  -0.4\n",
       "32489   261   7447     5.0                  -2.2\n",
       "32490   261   1268     7.0                  -0.6\n",
       "\n",
       "[247 rows x 4 columns]"
      ]
     },
     "execution_count": 8,
     "metadata": {},
     "output_type": "execute_result"
    }
   ],
   "source": [
    "df_user_validation"
   ]
  },
  {
   "cell_type": "markdown",
   "metadata": {
    "collapsed": false,
    "pycharm": {
     "name": "#%% md\n"
    }
   },
   "source": [
    "# 0. model"
   ]
  },
  {
   "cell_type": "code",
   "execution_count": 9,
   "metadata": {
    "collapsed": false,
    "pycharm": {
     "name": "#%%\n"
    }
   },
   "outputs": [],
   "source": []
  },
  {
   "cell_type": "code",
   "execution_count": 10,
   "metadata": {
    "collapsed": false,
    "pycharm": {
     "name": "#%%\n"
    }
   },
   "outputs": [],
   "source": []
  },
  {
   "cell_type": "markdown",
   "metadata": {
    "collapsed": false,
    "pycharm": {
     "name": "#%% md\n"
    }
   },
   "source": [
    "# 1. User cold start\n",
    "* recommendation based on popularity and overall rating of the movie for users with not many rated movies\n",
    "* we have no data about the user (age, gender, ...) so we don't use it as a feature in collaborative filtering."
   ]
  },
  {
   "cell_type": "code",
   "execution_count": 11,
   "metadata": {
    "collapsed": false,
    "pycharm": {
     "name": "#%%\n"
    }
   },
   "outputs": [],
   "source": [
    "class UCSRecommender(BaseRecommender):\n",
    "    \"\"\"user cold start recommender.\n",
    "    Take n_top_movies and recommend them in order based on Avg_rating.\"\"\"\n",
    "\n",
    "    recommendation_table = None\n",
    "\n",
    "    def train(\n",
    "        self, df_user: Union[pd.DataFrame, None], n_top_movies: int = 20, **kwargs\n",
    "    ):\n",
    "        self.recommendation_table = (\n",
    "            df_movie.groupby([\"Title\"])[[\"Avg_rating\", \"Number_of_ratings\"]]\n",
    "            .min()\n",
    "            .reset_index()\n",
    "            .sort_values(\"Number_of_ratings\", ascending=False)\n",
    "            .head(n_top_movies)\n",
    "            .sort_values(\"Avg_rating\", ascending=False)\n",
    "        )\n",
    "\n",
    "    def predict(self, df_user: pd.DataFrame, num_of_recomendations: int, **kwargs):\n",
    "        recommendations = pd.DataFrame(columns=[\"User\", \"Title\"])\n",
    "        for user in df_user[\"User\"].unique():\n",
    "            recommendations_for_user = self.recommendation_table.head(\n",
    "                num_of_recomendations\n",
    "            )[[\"Title\"]]\n",
    "            recommendations_for_user[\"User\"] = user\n",
    "            recommendations = pd.concat([recommendations, recommendations_for_user])\n",
    "        return recommendations"
   ]
  },
  {
   "cell_type": "code",
   "execution_count": 12,
   "metadata": {
    "collapsed": false,
    "pycharm": {
     "name": "#%%\n"
    }
   },
   "outputs": [
    {
     "ename": "AttributeError",
     "evalue": "'NoneType' object has no attribute 'columns'",
     "output_type": "error",
     "traceback": [
      "\u001b[0;31m---------------------------------------------------------------------------\u001b[0m",
      "\u001b[0;31mAttributeError\u001b[0m                            Traceback (most recent call last)",
      "Cell \u001b[0;32mIn[12], line 9\u001b[0m\n\u001b[1;32m      4\u001b[0m \u001b[38;5;66;03m# recommendations = ucs_recommender.fit(\u001b[39;00m\n\u001b[1;32m      5\u001b[0m recommendations \u001b[38;5;241m=\u001b[39m ucs_recommender\u001b[38;5;241m.\u001b[39mtrain(\n\u001b[1;32m      6\u001b[0m     df_user\u001b[38;5;241m=\u001b[39mdf_user_validation, num_of_recomendations\u001b[38;5;241m=\u001b[39m\u001b[38;5;241m10\u001b[39m\n\u001b[1;32m      7\u001b[0m )\n\u001b[0;32m----> 9\u001b[0m \u001b[43mdecode\u001b[49m\u001b[43m(\u001b[49m\u001b[43mrecommendations\u001b[49m\u001b[43m)\u001b[49m\n",
      "Cell \u001b[0;32mIn[10], line 5\u001b[0m, in \u001b[0;36mdecode\u001b[0;34m(df)\u001b[0m\n\u001b[1;32m      3\u001b[0m user_dict_decoder \u001b[38;5;241m=\u001b[39m {val: key \u001b[38;5;28;01mfor\u001b[39;00m key, val \u001b[38;5;129;01min\u001b[39;00m user_dict\u001b[38;5;241m.\u001b[39mitems()}\n\u001b[1;32m      4\u001b[0m movie_dict_decoder \u001b[38;5;241m=\u001b[39m {val: key \u001b[38;5;28;01mfor\u001b[39;00m key, val \u001b[38;5;129;01min\u001b[39;00m movie_dict\u001b[38;5;241m.\u001b[39mitems()}\n\u001b[0;32m----> 5\u001b[0m df_cols \u001b[38;5;241m=\u001b[39m \u001b[43mdf\u001b[49m\u001b[38;5;241;43m.\u001b[39;49m\u001b[43mcolumns\u001b[49m\n\u001b[1;32m      6\u001b[0m \u001b[38;5;28;01mif\u001b[39;00m \u001b[38;5;124m\"\u001b[39m\u001b[38;5;124mUser\u001b[39m\u001b[38;5;124m\"\u001b[39m \u001b[38;5;129;01min\u001b[39;00m df_cols:\n\u001b[1;32m      7\u001b[0m     df[\u001b[38;5;124m\"\u001b[39m\u001b[38;5;124mUser\u001b[39m\u001b[38;5;124m\"\u001b[39m] \u001b[38;5;241m=\u001b[39m df[\u001b[38;5;124m\"\u001b[39m\u001b[38;5;124mUser\u001b[39m\u001b[38;5;124m\"\u001b[39m]\u001b[38;5;241m.\u001b[39magg(\u001b[38;5;28;01mlambda\u001b[39;00m x: user_dict_decoder[x])\n",
      "\u001b[0;31mAttributeError\u001b[0m: 'NoneType' object has no attribute 'columns'"
     ]
    }
   ],
   "source": [
    "# example of usage\n",
    "ucs_recommender = UCSRecommender(df_user, df_movie)\n",
    "ucs_recommender.train(df_user)\n",
    "recommendations = ucs_recommender.fit(\n",
    "# recommendations = ucs_recommender.train(\n",
    "    df_user=df_user_validation, num_of_recomendations=10\n",
    ")\n",
    "\n",
    "decode(recommendations, user_dict, movie_dict)"
   ]
  },
  {
   "cell_type": "markdown",
   "metadata": {
    "collapsed": false,
    "pycharm": {
     "name": "#%% md\n"
    }
   },
   "source": [
    "# 2. Collaborative filtering\n",
    "* user similarity"
   ]
  },
  {
   "cell_type": "code",
   "execution_count": null,
   "metadata": {
    "collapsed": false,
    "pycharm": {
     "name": "#%%\n"
    }
   },
   "outputs": [],
   "source": [
    "# TODO:\n",
    "\n",
    "# KNN\n",
    "similarity = {\n",
    "    \"name\": \"cosine\",\n",
    "    \"user_based\": False,  # item-based similarity\n",
    "}\n",
    "algo_KNN = KNNWithMeans(sim_options=similarity)\n",
    "\n",
    "# SVD\n",
    "algo_SVD = SVD()"
   ]
  },
  {
   "cell_type": "code",
   "execution_count": null,
   "metadata": {
    "collapsed": false,
    "pycharm": {
     "name": "#%%\n"
    }
   },
   "outputs": [],
   "source": [
    "reader = Reader(rating_scale=(1, 10))\n",
    "rating_df = Dataset.load_from_df(df_user[[\"User\", \"Title\", \"Rating\"]], reader)\n",
    "\n",
    "# from surprise.model_selection import cross_validate\n",
    "# cross_validate_KNN = cross_validate(algo_KNN, rating_df, measures=['RMSE', 'MAE'], cv=5, verbose=True)\n",
    "# cross_validate_SVD = cross_validate(algo_SVD, rating_df, measures=['RMSE', 'MAE'], cv=5, verbose=True)"
   ]
  },
  {
   "cell_type": "code",
   "execution_count": null,
   "metadata": {
    "collapsed": false,
    "pycharm": {
     "name": "#%%\n"
    }
   },
   "outputs": [],
   "source": [
    "# define train test function\n",
    "def train_test_algo(algo, label):\n",
    "    training_set, testing_set = train_test_split(rating_df, test_size=0.2)\n",
    "    algo.fit(training_set)\n",
    "    test_output = algo.test(testing_set)\n",
    "    test_df = pd.DataFrame(test_output)\n",
    "\n",
    "    print(\"RMSE -\", label, accuracy.rmse(test_output, verbose=False))\n",
    "    print(\"MAE -\", label, accuracy.mae(test_output, verbose=False))\n",
    "    print(\"MSE -\", label, accuracy.mse(test_output, verbose=False))\n",
    "\n",
    "    return test_df"
   ]
  },
  {
   "cell_type": "code",
   "execution_count": null,
   "metadata": {
    "collapsed": false,
    "pycharm": {
     "name": "#%%\n"
    }
   },
   "outputs": [
    {
     "ename": "ValueError",
     "evalue": "test_size=0 should be strictly greater than 0",
     "output_type": "error",
     "traceback": [
      "\u001b[1;31m---------------------------------------------------------------------------\u001b[0m",
      "\u001b[1;31mValueError\u001b[0m                                Traceback (most recent call last)",
      "Cell \u001b[1;32mIn[147], line 1\u001b[0m\n\u001b[1;32m----> 1\u001b[0m train_test_KNN \u001b[38;5;241m=\u001b[39m \u001b[43mtrain_test_algo\u001b[49m\u001b[43m(\u001b[49m\u001b[43malgo_KNN\u001b[49m\u001b[43m,\u001b[49m\u001b[43m \u001b[49m\u001b[38;5;124;43m\"\u001b[39;49m\u001b[38;5;124;43malgo_KNN\u001b[39;49m\u001b[38;5;124;43m\"\u001b[39;49m\u001b[43m)\u001b[49m\n\u001b[0;32m      2\u001b[0m \u001b[38;5;28mprint\u001b[39m(train_test_KNN\u001b[38;5;241m.\u001b[39mhead())\n\u001b[0;32m      3\u001b[0m train_test_SVD \u001b[38;5;241m=\u001b[39m train_test_algo(algo_SVD, \u001b[38;5;124m\"\u001b[39m\u001b[38;5;124malgo_SVD\u001b[39m\u001b[38;5;124m\"\u001b[39m)\n",
      "Cell \u001b[1;32mIn[146], line 3\u001b[0m, in \u001b[0;36mtrain_test_algo\u001b[1;34m(algo, label)\u001b[0m\n\u001b[0;32m      2\u001b[0m \u001b[38;5;28;01mdef\u001b[39;00m \u001b[38;5;21mtrain_test_algo\u001b[39m(algo, label):\n\u001b[1;32m----> 3\u001b[0m     training_set, testing_set \u001b[38;5;241m=\u001b[39m \u001b[43mtrain_test_split\u001b[49m\u001b[43m(\u001b[49m\u001b[43mrating_df\u001b[49m\u001b[43m,\u001b[49m\u001b[43m \u001b[49m\u001b[43mtest_size\u001b[49m\u001b[43m \u001b[49m\u001b[38;5;241;43m=\u001b[39;49m\u001b[43m \u001b[49m\u001b[38;5;241;43m0\u001b[39;49m\u001b[43m)\u001b[49m\n\u001b[0;32m      4\u001b[0m     algo\u001b[38;5;241m.\u001b[39mfit(training_set)\n\u001b[0;32m      5\u001b[0m     \u001b[38;5;66;03m# test_output = algo.test(testing_set)\u001b[39;00m\n\u001b[0;32m      6\u001b[0m     \u001b[38;5;66;03m# test_df = pd.DataFrame(test_output)\u001b[39;00m\n\u001b[0;32m      7\u001b[0m \n\u001b[0;32m      8\u001b[0m     \u001b[38;5;66;03m# print(\"RMSE -\",label, accuracy.rmse(test_output, verbose = False))\u001b[39;00m\n\u001b[0;32m      9\u001b[0m     \u001b[38;5;66;03m# print(\"MAE -\", label, accuracy.mae(test_output, verbose=False))\u001b[39;00m\n\u001b[0;32m     10\u001b[0m     \u001b[38;5;66;03m# print(\"MSE -\", label, accuracy.mse(test_output, verbose=False))\u001b[39;00m\n",
      "File \u001b[1;32mC:\\ProgramData\\Anaconda3\\envs\\aoud\\lib\\site-packages\\surprise\\model_selection\\split.py:348\u001b[0m, in \u001b[0;36mtrain_test_split\u001b[1;34m(data, test_size, train_size, random_state, shuffle)\u001b[0m\n\u001b[0;32m    316\u001b[0m \u001b[38;5;28;01mdef\u001b[39;00m \u001b[38;5;21mtrain_test_split\u001b[39m(\n\u001b[0;32m    317\u001b[0m     data, test_size\u001b[38;5;241m=\u001b[39m\u001b[38;5;241m0.2\u001b[39m, train_size\u001b[38;5;241m=\u001b[39m\u001b[38;5;28;01mNone\u001b[39;00m, random_state\u001b[38;5;241m=\u001b[39m\u001b[38;5;28;01mNone\u001b[39;00m, shuffle\u001b[38;5;241m=\u001b[39m\u001b[38;5;28;01mTrue\u001b[39;00m\n\u001b[0;32m    318\u001b[0m ):\n\u001b[0;32m    319\u001b[0m     \u001b[38;5;124;03m\"\"\"Split a dataset into trainset and testset.\u001b[39;00m\n\u001b[0;32m    320\u001b[0m \n\u001b[0;32m    321\u001b[0m \u001b[38;5;124;03m    See an example in the :ref:`User Guide <train_test_split_example>`.\u001b[39;00m\n\u001b[1;32m   (...)\u001b[0m\n\u001b[0;32m    346\u001b[0m \u001b[38;5;124;03m            parameter. Shuffling is not done in-place. Default is ``True``.\u001b[39;00m\n\u001b[0;32m    347\u001b[0m \u001b[38;5;124;03m    \"\"\"\u001b[39;00m\n\u001b[1;32m--> 348\u001b[0m     ss \u001b[38;5;241m=\u001b[39m \u001b[43mShuffleSplit\u001b[49m\u001b[43m(\u001b[49m\n\u001b[0;32m    349\u001b[0m \u001b[43m        \u001b[49m\u001b[43mn_splits\u001b[49m\u001b[38;5;241;43m=\u001b[39;49m\u001b[38;5;241;43m1\u001b[39;49m\u001b[43m,\u001b[49m\n\u001b[0;32m    350\u001b[0m \u001b[43m        \u001b[49m\u001b[43mtest_size\u001b[49m\u001b[38;5;241;43m=\u001b[39;49m\u001b[43mtest_size\u001b[49m\u001b[43m,\u001b[49m\n\u001b[0;32m    351\u001b[0m \u001b[43m        \u001b[49m\u001b[43mtrain_size\u001b[49m\u001b[38;5;241;43m=\u001b[39;49m\u001b[43mtrain_size\u001b[49m\u001b[43m,\u001b[49m\n\u001b[0;32m    352\u001b[0m \u001b[43m        \u001b[49m\u001b[43mrandom_state\u001b[49m\u001b[38;5;241;43m=\u001b[39;49m\u001b[43mrandom_state\u001b[49m\u001b[43m,\u001b[49m\n\u001b[0;32m    353\u001b[0m \u001b[43m        \u001b[49m\u001b[43mshuffle\u001b[49m\u001b[38;5;241;43m=\u001b[39;49m\u001b[43mshuffle\u001b[49m\u001b[43m,\u001b[49m\n\u001b[0;32m    354\u001b[0m \u001b[43m    \u001b[49m\u001b[43m)\u001b[49m\n\u001b[0;32m    355\u001b[0m     \u001b[38;5;28;01mreturn\u001b[39;00m \u001b[38;5;28mnext\u001b[39m(ss\u001b[38;5;241m.\u001b[39msplit(data))\n",
      "File \u001b[1;32mC:\\ProgramData\\Anaconda3\\envs\\aoud\\lib\\site-packages\\surprise\\model_selection\\split.py:228\u001b[0m, in \u001b[0;36mShuffleSplit.__init__\u001b[1;34m(self, n_splits, test_size, train_size, random_state, shuffle)\u001b[0m\n\u001b[0;32m    224\u001b[0m     \u001b[38;5;28;01mraise\u001b[39;00m \u001b[38;5;167;01mValueError\u001b[39;00m(\n\u001b[0;32m    225\u001b[0m         \u001b[38;5;124m\"\u001b[39m\u001b[38;5;124mn_splits = \u001b[39m\u001b[38;5;132;01m{}\u001b[39;00m\u001b[38;5;124m should be strictly greater than \u001b[39m\u001b[38;5;124m\"\u001b[39m \u001b[38;5;124m\"\u001b[39m\u001b[38;5;124m0.\u001b[39m\u001b[38;5;124m\"\u001b[39m\u001b[38;5;241m.\u001b[39mformat(n_splits)\n\u001b[0;32m    226\u001b[0m     )\n\u001b[0;32m    227\u001b[0m \u001b[38;5;28;01mif\u001b[39;00m test_size \u001b[38;5;129;01mis\u001b[39;00m \u001b[38;5;129;01mnot\u001b[39;00m \u001b[38;5;28;01mNone\u001b[39;00m \u001b[38;5;129;01mand\u001b[39;00m test_size \u001b[38;5;241m<\u001b[39m\u001b[38;5;241m=\u001b[39m \u001b[38;5;241m0\u001b[39m:\n\u001b[1;32m--> 228\u001b[0m     \u001b[38;5;28;01mraise\u001b[39;00m \u001b[38;5;167;01mValueError\u001b[39;00m(\n\u001b[0;32m    229\u001b[0m         \u001b[38;5;124m\"\u001b[39m\u001b[38;5;124mtest_size=\u001b[39m\u001b[38;5;132;01m{}\u001b[39;00m\u001b[38;5;124m should be strictly greater than \u001b[39m\u001b[38;5;124m\"\u001b[39m \u001b[38;5;124m\"\u001b[39m\u001b[38;5;124m0\u001b[39m\u001b[38;5;124m\"\u001b[39m\u001b[38;5;241m.\u001b[39mformat(test_size)\n\u001b[0;32m    230\u001b[0m     )\n\u001b[0;32m    232\u001b[0m \u001b[38;5;28;01mif\u001b[39;00m train_size \u001b[38;5;129;01mis\u001b[39;00m \u001b[38;5;129;01mnot\u001b[39;00m \u001b[38;5;28;01mNone\u001b[39;00m \u001b[38;5;129;01mand\u001b[39;00m train_size \u001b[38;5;241m<\u001b[39m\u001b[38;5;241m=\u001b[39m \u001b[38;5;241m0\u001b[39m:\n\u001b[0;32m    233\u001b[0m     \u001b[38;5;28;01mraise\u001b[39;00m \u001b[38;5;167;01mValueError\u001b[39;00m(\n\u001b[0;32m    234\u001b[0m         \u001b[38;5;124m\"\u001b[39m\u001b[38;5;124mtrain_size=\u001b[39m\u001b[38;5;132;01m{}\u001b[39;00m\u001b[38;5;124m should be strictly greater than \u001b[39m\u001b[38;5;124m\"\u001b[39m \u001b[38;5;124m\"\u001b[39m\u001b[38;5;124m0\u001b[39m\u001b[38;5;124m\"\u001b[39m\u001b[38;5;241m.\u001b[39mformat(train_size)\n\u001b[0;32m    235\u001b[0m     )\n",
      "\u001b[1;31mValueError\u001b[0m: test_size=0 should be strictly greater than 0"
     ]
    }
   ],
   "source": [
    "train_test_KNN = train_test_algo(algo_KNN, \"algo_KNN\")\n",
    "print(train_test_KNN.head())\n",
    "train_test_SVD = train_test_algo(algo_SVD, \"algo_SVD\")\n",
    "print(train_test_SVD.head())\n",
    "\n",
    "# as we can see SVD does better job, so we process with SVD."
   ]
  },
  {
   "cell_type": "code",
   "execution_count": null,
   "metadata": {
    "collapsed": false,
    "pycharm": {
     "name": "#%%\n"
    }
   },
   "outputs": [],
   "source": [
    "def prediction(algo, users_K):\n",
    "    pred_list = []\n",
    "    for userId in range(1, users_K):\n",
    "        for movieId in range(1, len(df_movie.Title.unique())):\n",
    "            rating = algo.predict(userId, movieId).est\n",
    "            pred_list.append([userId, movieId, rating])\n",
    "    pred_df = pd.DataFrame(pred_list, columns=[\"userId\", \"movieId\", \"rating\"])\n",
    "    return pred_df"
   ]
  },
  {
   "cell_type": "code",
   "execution_count": null,
   "metadata": {
    "collapsed": false,
    "pycharm": {
     "name": "#%%\n"
    }
   },
   "outputs": [],
   "source": [
    "# def top_recommendations(pred_df, top_N):\n",
    "#     link_movie = pd.merge(pred_df, links_df, how='inner', left_on='movieId', right_on='movieId')\n",
    "#     recommended_movie = pd.merge(link_movie, movie_df, how='left', left_on='imdbId', right_on='imdb_id')[['userId', 'movieId', 'rating', 'movieId','imdb_id','title']]\n",
    "#     sorted_df = recommended_movie.groupby(('userId'), as_index = False).apply(lambda x: x.sort_values(['rating'], ascending = False)).reset_index(drop=True)\n",
    "#     top_recommended_movies = sorted_df.groupby('userId').head(top_N)\n",
    "#     return sorted_df, top_recommended_movies"
   ]
  },
  {
   "cell_type": "code",
   "execution_count": null,
   "metadata": {
    "collapsed": false,
    "pycharm": {
     "name": "#%%\n"
    }
   },
   "outputs": [
    {
     "data": {
      "text/html": [
       "<div>\n",
       "<style scoped>\n",
       "    .dataframe tbody tr th:only-of-type {\n",
       "        vertical-align: middle;\n",
       "    }\n",
       "\n",
       "    .dataframe tbody tr th {\n",
       "        vertical-align: top;\n",
       "    }\n",
       "\n",
       "    .dataframe thead th {\n",
       "        text-align: right;\n",
       "    }\n",
       "</style>\n",
       "<table border=\"1\" class=\"dataframe\">\n",
       "  <thead>\n",
       "    <tr style=\"text-align: right;\">\n",
       "      <th></th>\n",
       "      <th>userId</th>\n",
       "      <th>movieId</th>\n",
       "      <th>rating</th>\n",
       "    </tr>\n",
       "  </thead>\n",
       "  <tbody>\n",
       "    <tr>\n",
       "      <th>0</th>\n",
       "      <td>1</td>\n",
       "      <td>1</td>\n",
       "      <td>1.000000</td>\n",
       "    </tr>\n",
       "    <tr>\n",
       "      <th>1</th>\n",
       "      <td>1</td>\n",
       "      <td>2</td>\n",
       "      <td>7.166667</td>\n",
       "    </tr>\n",
       "    <tr>\n",
       "      <th>2</th>\n",
       "      <td>1</td>\n",
       "      <td>3</td>\n",
       "      <td>7.098803</td>\n",
       "    </tr>\n",
       "    <tr>\n",
       "      <th>3</th>\n",
       "      <td>1</td>\n",
       "      <td>4</td>\n",
       "      <td>5.566667</td>\n",
       "    </tr>\n",
       "    <tr>\n",
       "      <th>4</th>\n",
       "      <td>1</td>\n",
       "      <td>5</td>\n",
       "      <td>4.733333</td>\n",
       "    </tr>\n",
       "    <tr>\n",
       "      <th>...</th>\n",
       "      <td>...</td>\n",
       "      <td>...</td>\n",
       "      <td>...</td>\n",
       "    </tr>\n",
       "    <tr>\n",
       "      <th>69592</th>\n",
       "      <td>9</td>\n",
       "      <td>7729</td>\n",
       "      <td>5.969287</td>\n",
       "    </tr>\n",
       "    <tr>\n",
       "      <th>69593</th>\n",
       "      <td>9</td>\n",
       "      <td>7730</td>\n",
       "      <td>7.969287</td>\n",
       "    </tr>\n",
       "    <tr>\n",
       "      <th>69594</th>\n",
       "      <td>9</td>\n",
       "      <td>7731</td>\n",
       "      <td>8.168812</td>\n",
       "    </tr>\n",
       "    <tr>\n",
       "      <th>69595</th>\n",
       "      <td>9</td>\n",
       "      <td>7732</td>\n",
       "      <td>9.135745</td>\n",
       "    </tr>\n",
       "    <tr>\n",
       "      <th>69596</th>\n",
       "      <td>9</td>\n",
       "      <td>7733</td>\n",
       "      <td>6.000000</td>\n",
       "    </tr>\n",
       "  </tbody>\n",
       "</table>\n",
       "<p>69597 rows × 3 columns</p>\n",
       "</div>"
      ],
      "text/plain": [
       "       userId  movieId    rating\n",
       "0           1        1  1.000000\n",
       "1           1        2  7.166667\n",
       "2           1        3  7.098803\n",
       "3           1        4  5.566667\n",
       "4           1        5  4.733333\n",
       "...       ...      ...       ...\n",
       "69592       9     7729  5.969287\n",
       "69593       9     7730  7.969287\n",
       "69594       9     7731  8.168812\n",
       "69595       9     7732  9.135745\n",
       "69596       9     7733  6.000000\n",
       "\n",
       "[69597 rows x 3 columns]"
      ]
     },
     "execution_count": 76,
     "metadata": {},
     "output_type": "execute_result"
    }
   ],
   "source": [
    "# KNN predictions\n",
    "pred_KNN = prediction(algo_KNN, 10)\n",
    "pred_KNN\n",
    "# recommended_movies_KNN, top_recommended_movies_KNN = top_recommendations(pred_KNN, 3)\n",
    "# ## SVD predictions\n",
    "# pred_SVD = prediction(algo_SVD, 10)\n",
    "# recommended_movies_SVD, top_recommended_movies_SVD = top_recommendations(pred_SVD, 3)"
   ]
  },
  {
   "cell_type": "code",
   "execution_count": null,
   "metadata": {
    "collapsed": false,
    "pycharm": {
     "name": "#%%\n"
    }
   },
   "outputs": [],
   "source": [
    "class CFRecommender(BaseRecommender):\n",
    "    def __init__(self, df_user, df_movie):\n",
    "        super(CFRecommender, self).__init__(df_user, df_movie)\n",
    "        self.algo_SVD = SVD()\n",
    "        # rating scale\n",
    "        # reader = Reader(rating_scale = (1,10))\n",
    "        # self.rating_df = Dataset.load_from_df(df_user[['User','Title', 'Rating']], reader)\n",
    "\n",
    "    def train(\n",
    "        self, df_user: Union[pd.DataFrame, None], n_top_movies: int = 20, **kwargs\n",
    "    ):\n",
    "        reader = Reader(rating_scale=(1, 10))\n",
    "        self.rating_df = Dataset.load_from_df(\n",
    "            df_user[[\"User\", \"Title\", \"Rating\"]], reader\n",
    "        )\n",
    "\n",
    "        self.algo_SVD.fit(self.rating_df.build_full_trainset())\n",
    "\n",
    "    def predict(self, df_user: pd.DataFrame, num_of_recomendations: int, **kwargs):\n",
    "        recommendations = pd.DataFrame(columns=[\"User\", \"Title\", \"Rating\"])\n",
    "        for user in df_user[\"User\"].unique():\n",
    "\n",
    "            user_movies = df_user[df_user[\"User\"] == user][\"Title\"].unique()\n",
    "\n",
    "            # predict value for each movie in dataset.\n",
    "            pred_list = []\n",
    "            for movie in range(1, len(df_movie.Title.unique())):\n",
    "                rating = self.algo_SVD.predict(user, movie).est\n",
    "                pred_list.append([user, movie, rating])\n",
    "\n",
    "            recommendations_for_user = pd.DataFrame(\n",
    "                pred_list, columns=[\"User\", \"Title\", \"Rating\"]\n",
    "            )\n",
    "\n",
    "            # remove already watched movies from recommendations\n",
    "            recommendations_for_user = (\n",
    "                recommendations_for_user[\n",
    "                    ~recommendations_for_user[\"Title\"].isin(user_movies)\n",
    "                ]\n",
    "                .sort_values(\"Rating\", ascending=False)\n",
    "                .head(num_of_recomendations)\n",
    "            )\n",
    "            recommendations = pd.concat([recommendations, recommendations_for_user])\n",
    "        return recommendations"
   ]
  },
  {
   "cell_type": "code",
   "execution_count": null,
   "metadata": {
    "collapsed": false,
    "pycharm": {
     "name": "#%%\n"
    }
   },
   "outputs": [
    {
     "data": {
      "text/html": [
       "<div>\n",
       "<style scoped>\n",
       "    .dataframe tbody tr th:only-of-type {\n",
       "        vertical-align: middle;\n",
       "    }\n",
       "\n",
       "    .dataframe tbody tr th {\n",
       "        vertical-align: top;\n",
       "    }\n",
       "\n",
       "    .dataframe thead th {\n",
       "        text-align: right;\n",
       "    }\n",
       "</style>\n",
       "<table border=\"1\" class=\"dataframe\">\n",
       "  <thead>\n",
       "    <tr style=\"text-align: right;\">\n",
       "      <th></th>\n",
       "      <th>User</th>\n",
       "      <th>Title</th>\n",
       "      <th>Rating</th>\n",
       "    </tr>\n",
       "  </thead>\n",
       "  <tbody>\n",
       "    <tr>\n",
       "      <th>5263</th>\n",
       "      <td>honorciak</td>\n",
       "      <td>Pulp Fiction_1994</td>\n",
       "      <td>8.519361</td>\n",
       "    </tr>\n",
       "    <tr>\n",
       "      <th>1535</th>\n",
       "      <td>honorciak</td>\n",
       "      <td>Dwunastu gniewnych ludzi_1957</td>\n",
       "      <td>8.440207</td>\n",
       "    </tr>\n",
       "    <tr>\n",
       "      <th>3297</th>\n",
       "      <td>honorciak</td>\n",
       "      <td>Lista Schindlera_1993</td>\n",
       "      <td>8.437749</td>\n",
       "    </tr>\n",
       "    <tr>\n",
       "      <th>4162</th>\n",
       "      <td>honorciak</td>\n",
       "      <td>Nietykalni_2011</td>\n",
       "      <td>8.372387</td>\n",
       "    </tr>\n",
       "    <tr>\n",
       "      <th>3338</th>\n",
       "      <td>honorciak</td>\n",
       "      <td>Lot nad kukułczym gniazdem_1975</td>\n",
       "      <td>8.342050</td>\n",
       "    </tr>\n",
       "    <tr>\n",
       "      <th>5857</th>\n",
       "      <td>piotrr99</td>\n",
       "      <td>Spirited Away: W krainie Bogów_2001</td>\n",
       "      <td>8.672691</td>\n",
       "    </tr>\n",
       "    <tr>\n",
       "      <th>2005</th>\n",
       "      <td>piotrr99</td>\n",
       "      <td>Gladiator_2000</td>\n",
       "      <td>8.481566</td>\n",
       "    </tr>\n",
       "    <tr>\n",
       "      <th>6848</th>\n",
       "      <td>piotrr99</td>\n",
       "      <td>Whiplash_2014</td>\n",
       "      <td>8.465827</td>\n",
       "    </tr>\n",
       "    <tr>\n",
       "      <th>3297</th>\n",
       "      <td>piotrr99</td>\n",
       "      <td>Lista Schindlera_1993</td>\n",
       "      <td>8.431235</td>\n",
       "    </tr>\n",
       "    <tr>\n",
       "      <th>6076</th>\n",
       "      <td>piotrr99</td>\n",
       "      <td>Szeregowiec Ryan_1998</td>\n",
       "      <td>8.403267</td>\n",
       "    </tr>\n",
       "    <tr>\n",
       "      <th>5743</th>\n",
       "      <td>sokoly35</td>\n",
       "      <td>Skazani na Shawshank_1994</td>\n",
       "      <td>8.862510</td>\n",
       "    </tr>\n",
       "    <tr>\n",
       "      <th>4162</th>\n",
       "      <td>sokoly35</td>\n",
       "      <td>Nietykalni_2011</td>\n",
       "      <td>8.501149</td>\n",
       "    </tr>\n",
       "    <tr>\n",
       "      <th>7432</th>\n",
       "      <td>sokoly35</td>\n",
       "      <td>Zielona mila_1999</td>\n",
       "      <td>8.492047</td>\n",
       "    </tr>\n",
       "    <tr>\n",
       "      <th>2091</th>\n",
       "      <td>sokoly35</td>\n",
       "      <td>Gran Torino_2008</td>\n",
       "      <td>8.449453</td>\n",
       "    </tr>\n",
       "    <tr>\n",
       "      <th>5263</th>\n",
       "      <td>sokoly35</td>\n",
       "      <td>Pulp Fiction_1994</td>\n",
       "      <td>8.377300</td>\n",
       "    </tr>\n",
       "  </tbody>\n",
       "</table>\n",
       "</div>"
      ],
      "text/plain": [
       "           User                                Title    Rating\n",
       "5263  honorciak                    Pulp Fiction_1994  8.519361\n",
       "1535  honorciak        Dwunastu gniewnych ludzi_1957  8.440207\n",
       "3297  honorciak                Lista Schindlera_1993  8.437749\n",
       "4162  honorciak                      Nietykalni_2011  8.372387\n",
       "3338  honorciak      Lot nad kukułczym gniazdem_1975  8.342050\n",
       "5857   piotrr99  Spirited Away: W krainie Bogów_2001  8.672691\n",
       "2005   piotrr99                       Gladiator_2000  8.481566\n",
       "6848   piotrr99                        Whiplash_2014  8.465827\n",
       "3297   piotrr99                Lista Schindlera_1993  8.431235\n",
       "6076   piotrr99                Szeregowiec Ryan_1998  8.403267\n",
       "5743   sokoly35            Skazani na Shawshank_1994  8.862510\n",
       "4162   sokoly35                      Nietykalni_2011  8.501149\n",
       "7432   sokoly35                    Zielona mila_1999  8.492047\n",
       "2091   sokoly35                     Gran Torino_2008  8.449453\n",
       "5263   sokoly35                    Pulp Fiction_1994  8.377300"
      ]
     },
     "execution_count": 176,
     "metadata": {},
     "output_type": "execute_result"
    }
   ],
   "source": [
    "cf_recommender = CFRecommender(pd.concat([df_user, df_user_validation]), df_movie)\n",
    "cf_recommender.train(pd.concat([df_user, df_user_validation]))\n",
    "recommendations = cf_recommender.predict(df_user_validation, 5)\n",
    "decode(recommendations, user_dict, movie_dict)"
   ]
  },
  {
   "cell_type": "markdown",
   "metadata": {
    "collapsed": false,
    "pycharm": {
     "name": "#%% md\n"
    }
   },
   "source": [
    "# 3. Content based\n",
    "* movie similarity"
   ]
  },
  {
   "cell_type": "code",
   "execution_count": null,
   "metadata": {
    "collapsed": false,
    "pycharm": {
     "name": "#%%\n"
    }
   },
   "outputs": [],
   "source": [
    "# TODO:"
   ]
  },
  {
   "cell_type": "markdown",
   "metadata": {
    "collapsed": false,
    "pycharm": {
     "name": "#%% md\n"
    }
   },
   "source": [
    "# 4. Final model"
   ]
  },
  {
   "cell_type": "code",
   "execution_count": null,
   "metadata": {
    "collapsed": false,
    "pycharm": {
     "name": "#%%\n"
    }
   },
   "outputs": [],
   "source": []
  }
 ],
 "metadata": {
  "kernelspec": {
   "display_name": "Python 3.8.10 ('filmweb-recommendation-system-GVyfliQa-py3.8')",
   "language": "python",
   "name": "python3"
  },
  "language_info": {
   "codemirror_mode": {
    "name": "ipython",
    "version": 3
   },
   "file_extension": ".py",
   "mimetype": "text/x-python",
   "name": "python",
   "nbconvert_exporter": "python",
   "pygments_lexer": "ipython3",
   "version": "3.8.10"
  },
  "vscode": {
   "interpreter": {
    "hash": "8254b358732005ea123a8d085ce856acf9de004e7ea62cad06c98d209f30aebc"
   }
  }
 },
 "nbformat": 4,
 "nbformat_minor": 0
}
