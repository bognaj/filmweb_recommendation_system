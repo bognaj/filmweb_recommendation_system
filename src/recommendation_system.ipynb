{
 "cells": [
  {
   "cell_type": "code",
   "execution_count": 1,
   "metadata": {},
   "outputs": [],
   "source": [
    "from __future__ import annotations\n",
    "\n",
    "%load_ext autoreload\n",
    "%autoreload 2"
   ]
  },
  {
   "cell_type": "code",
   "execution_count": 2,
   "metadata": {
    "pycharm": {
     "name": "#%%\n"
    }
   },
   "outputs": [],
   "source": [
    "from abc import ABC, abstractmethod\n",
    "import pandas as pd\n",
    "import numpy as np\n",
    "from surprise import KNNWithMeans, SVD, Dataset, Reader, accuracy\n",
    "from surprise.model_selection import train_test_split\n",
    "\n",
    "from scrap_data.data_import import load_data\n",
    "from model.BaseRecommender import BaseRecommender\n",
    "from model.UCSRecommender import UCSRecommender\n",
    "from model.CFRecommender import CFRecommender\n",
    "from model.CBRecommender import CBRecommender\n",
    "from model.Recommender import Recommender_suspected"
   ]
  },
  {
   "cell_type": "code",
   "execution_count": 3,
   "metadata": {
    "pycharm": {
     "name": "#%%\n"
    }
   },
   "outputs": [],
   "source": [
    "# import data\n",
    "df_user, df_movie = load_data()"
   ]
  },
  {
   "cell_type": "markdown",
   "metadata": {
    "pycharm": {
     "name": "#%% md\n"
    }
   },
   "source": [
    "Data cleaning"
   ]
  },
  {
   "cell_type": "code",
   "execution_count": 4,
   "metadata": {
    "pycharm": {
     "name": "#%%\n"
    }
   },
   "outputs": [],
   "source": [
    "df_movie = df_movie[df_movie[\"Avg_rating\"] <= 10]\n",
    "\n",
    "concat = lambda df, col1, col2: df[col1].astype(str) + \"_\" + df[col2].astype(str)\n",
    "\n",
    "df_movie[\"Title\"] = concat(df_movie, \"Title\", \"Year\")\n",
    "df_user[\"Title\"] = concat(df_user, \"Title\", \"Year\")\n",
    "df_user = df_user.drop(columns=\"Year\")"
   ]
  },
  {
   "cell_type": "markdown",
   "metadata": {
    "pycharm": {
     "name": "#%% md\n"
    }
   },
   "source": [
    "Feature engineering"
   ]
  },
  {
   "cell_type": "code",
   "execution_count": 5,
   "metadata": {
    "pycharm": {
     "name": "#%%\n"
    }
   },
   "outputs": [],
   "source": [
    "# percentage difference between user rating and average rating (user-avg)\n",
    "\n",
    "df_user_temp = df_user.merge(\n",
    "    df_movie.groupby([\"Title\"])[\"Avg_rating\"].max().reset_index(),\n",
    "    on=[\"Title\"],\n",
    "    how=\"left\",\n",
    ")\n",
    "\n",
    "df_user[\"Avg_user_rating_diff\"] = df_user_temp[\"Rating\"] - df_user_temp[\"Avg_rating\"]\n",
    "\n",
    "df_user = df_user.dropna()"
   ]
  },
  {
   "cell_type": "code",
   "execution_count": 6,
   "metadata": {
    "pycharm": {
     "name": "#%%\n"
    }
   },
   "outputs": [],
   "source": [
    "# Mapping users to numbers\n",
    "user_dict = {user: i for i, user in enumerate(df_user.User.unique())}\n",
    "movie_dict = {title: i for i, title in enumerate(df_movie.Title.unique())}\n",
    "\n",
    "df_user[[\"User\", \"Title\"]] = df_user[[\"User\", \"Title\"]].agg(\n",
    "    {\"User\": lambda x: user_dict[x], \"Title\": lambda x: movie_dict[x]}\n",
    ")\n",
    "df_movie[[\"Title\"]] = df_movie[[\"Title\"]].agg({\"Title\": lambda x: movie_dict[x]})"
   ]
  },
  {
   "cell_type": "code",
   "execution_count": 7,
   "metadata": {
    "pycharm": {
     "name": "#%%\n"
    }
   },
   "outputs": [],
   "source": [
    "# TODO: change that to get only subset of the movies.\n",
    "\n",
    "val_user_list = [user_dict[it] for it in [\"sokoly35\", \"honorciak\", \"piotrr99\"]]\n",
    "df_user_validation = df_user[df_user[\"User\"].isin(val_user_list)]\n",
    "\n",
    "# exclude us from df_user\n",
    "df_user = df_user[~df_user.index.isin(df_user_validation.index)]"
   ]
  },
  {
   "cell_type": "code",
   "execution_count": 8,
   "metadata": {
    "pycharm": {
     "name": "#%%\n"
    }
   },
   "outputs": [
    {
     "data": {
      "text/html": [
       "<div>\n",
       "<style scoped>\n",
       "    .dataframe tbody tr th:only-of-type {\n",
       "        vertical-align: middle;\n",
       "    }\n",
       "\n",
       "    .dataframe tbody tr th {\n",
       "        vertical-align: top;\n",
       "    }\n",
       "\n",
       "    .dataframe thead th {\n",
       "        text-align: right;\n",
       "    }\n",
       "</style>\n",
       "<table border=\"1\" class=\"dataframe\">\n",
       "  <thead>\n",
       "    <tr style=\"text-align: right;\">\n",
       "      <th></th>\n",
       "      <th>User</th>\n",
       "      <th>Title</th>\n",
       "      <th>Rating</th>\n",
       "      <th>Avg_user_rating_diff</th>\n",
       "    </tr>\n",
       "  </thead>\n",
       "  <tbody>\n",
       "    <tr>\n",
       "      <th>9900</th>\n",
       "      <td>82</td>\n",
       "      <td>5744</td>\n",
       "      <td>9.0</td>\n",
       "      <td>0.2</td>\n",
       "    </tr>\n",
       "    <tr>\n",
       "      <th>9901</th>\n",
       "      <td>82</td>\n",
       "      <td>7433</td>\n",
       "      <td>10.0</td>\n",
       "      <td>1.4</td>\n",
       "    </tr>\n",
       "    <tr>\n",
       "      <th>9902</th>\n",
       "      <td>82</td>\n",
       "      <td>318</td>\n",
       "      <td>6.0</td>\n",
       "      <td>-0.5</td>\n",
       "    </tr>\n",
       "    <tr>\n",
       "      <th>9903</th>\n",
       "      <td>82</td>\n",
       "      <td>2148</td>\n",
       "      <td>3.0</td>\n",
       "      <td>-4.6</td>\n",
       "    </tr>\n",
       "    <tr>\n",
       "      <th>9904</th>\n",
       "      <td>82</td>\n",
       "      <td>1171</td>\n",
       "      <td>7.0</td>\n",
       "      <td>0.1</td>\n",
       "    </tr>\n",
       "    <tr>\n",
       "      <th>...</th>\n",
       "      <td>...</td>\n",
       "      <td>...</td>\n",
       "      <td>...</td>\n",
       "      <td>...</td>\n",
       "    </tr>\n",
       "    <tr>\n",
       "      <th>32486</th>\n",
       "      <td>261</td>\n",
       "      <td>6264</td>\n",
       "      <td>8.0</td>\n",
       "      <td>0.4</td>\n",
       "    </tr>\n",
       "    <tr>\n",
       "      <th>32487</th>\n",
       "      <td>261</td>\n",
       "      <td>2469</td>\n",
       "      <td>7.0</td>\n",
       "      <td>-0.6</td>\n",
       "    </tr>\n",
       "    <tr>\n",
       "      <th>32488</th>\n",
       "      <td>261</td>\n",
       "      <td>2409</td>\n",
       "      <td>7.0</td>\n",
       "      <td>-0.4</td>\n",
       "    </tr>\n",
       "    <tr>\n",
       "      <th>32489</th>\n",
       "      <td>261</td>\n",
       "      <td>7447</td>\n",
       "      <td>5.0</td>\n",
       "      <td>-2.2</td>\n",
       "    </tr>\n",
       "    <tr>\n",
       "      <th>32490</th>\n",
       "      <td>261</td>\n",
       "      <td>1268</td>\n",
       "      <td>7.0</td>\n",
       "      <td>-0.6</td>\n",
       "    </tr>\n",
       "  </tbody>\n",
       "</table>\n",
       "<p>247 rows × 4 columns</p>\n",
       "</div>"
      ],
      "text/plain": [
       "       User  Title  Rating  Avg_user_rating_diff\n",
       "9900     82   5744     9.0                   0.2\n",
       "9901     82   7433    10.0                   1.4\n",
       "9902     82    318     6.0                  -0.5\n",
       "9903     82   2148     3.0                  -4.6\n",
       "9904     82   1171     7.0                   0.1\n",
       "...     ...    ...     ...                   ...\n",
       "32486   261   6264     8.0                   0.4\n",
       "32487   261   2469     7.0                  -0.6\n",
       "32488   261   2409     7.0                  -0.4\n",
       "32489   261   7447     5.0                  -2.2\n",
       "32490   261   1268     7.0                  -0.6\n",
       "\n",
       "[247 rows x 4 columns]"
      ]
     },
     "execution_count": 8,
     "metadata": {},
     "output_type": "execute_result"
    }
   ],
   "source": [
    "df_user_validation"
   ]
  },
  {
   "cell_type": "code",
   "execution_count": 9,
   "metadata": {},
   "outputs": [],
   "source": [
    "def decode(df, user_dict, movie_dict):\n",
    "    # decode users and movies\n",
    "    user_dict_decoder = {val: key for key, val in user_dict.items()}\n",
    "    movie_dict_decoder = {val: key for key, val in movie_dict.items()}\n",
    "    df_cols = df.columns\n",
    "    if \"User\" in df_cols:\n",
    "        df[\"User\"] = df[\"User\"].agg(lambda x: user_dict_decoder[x])\n",
    "    if \"Title\" in df_cols:\n",
    "        df[\"Title\"] = df[\"Title\"].agg(lambda x: movie_dict_decoder[x])\n",
    "    return df"
   ]
  },
  {
   "cell_type": "markdown",
   "metadata": {
    "pycharm": {
     "name": "#%% md\n"
    }
   },
   "source": [
    "# 1. User cold start\n",
    "* recommendation based on popularity and overall rating of the movie for users with not many rated movies\n",
    "* we have no data about the user (age, gender, ...) so we don't use it as a feature in collaborative filtering."
   ]
  },
  {
   "cell_type": "code",
   "execution_count": 10,
   "metadata": {
    "pycharm": {
     "name": "#%%\n"
    }
   },
   "outputs": [
    {
     "data": {
      "text/html": [
       "<div>\n",
       "<style scoped>\n",
       "    .dataframe tbody tr th:only-of-type {\n",
       "        vertical-align: middle;\n",
       "    }\n",
       "\n",
       "    .dataframe tbody tr th {\n",
       "        vertical-align: top;\n",
       "    }\n",
       "\n",
       "    .dataframe thead th {\n",
       "        text-align: right;\n",
       "    }\n",
       "</style>\n",
       "<table border=\"1\" class=\"dataframe\">\n",
       "  <thead>\n",
       "    <tr style=\"text-align: right;\">\n",
       "      <th></th>\n",
       "      <th>User</th>\n",
       "      <th>Title</th>\n",
       "      <th>Rating</th>\n",
       "    </tr>\n",
       "  </thead>\n",
       "  <tbody>\n",
       "    <tr>\n",
       "      <th>5744</th>\n",
       "      <td>honorciak</td>\n",
       "      <td>Skazani na Shawshank_1994</td>\n",
       "      <td>8.8</td>\n",
       "    </tr>\n",
       "    <tr>\n",
       "      <th>7433</th>\n",
       "      <td>honorciak</td>\n",
       "      <td>Zielona mila_1999</td>\n",
       "      <td>8.6</td>\n",
       "    </tr>\n",
       "    <tr>\n",
       "      <th>4163</th>\n",
       "      <td>honorciak</td>\n",
       "      <td>Nietykalni_2011</td>\n",
       "      <td>8.6</td>\n",
       "    </tr>\n",
       "    <tr>\n",
       "      <th>1867</th>\n",
       "      <td>honorciak</td>\n",
       "      <td>Forrest Gump_1994</td>\n",
       "      <td>8.5</td>\n",
       "    </tr>\n",
       "    <tr>\n",
       "      <th>5264</th>\n",
       "      <td>honorciak</td>\n",
       "      <td>Pulp Fiction_1994</td>\n",
       "      <td>8.3</td>\n",
       "    </tr>\n",
       "    <tr>\n",
       "      <th>5744</th>\n",
       "      <td>piotrr99</td>\n",
       "      <td>Skazani na Shawshank_1994</td>\n",
       "      <td>8.8</td>\n",
       "    </tr>\n",
       "    <tr>\n",
       "      <th>7433</th>\n",
       "      <td>piotrr99</td>\n",
       "      <td>Zielona mila_1999</td>\n",
       "      <td>8.6</td>\n",
       "    </tr>\n",
       "    <tr>\n",
       "      <th>4163</th>\n",
       "      <td>piotrr99</td>\n",
       "      <td>Nietykalni_2011</td>\n",
       "      <td>8.6</td>\n",
       "    </tr>\n",
       "    <tr>\n",
       "      <th>1867</th>\n",
       "      <td>piotrr99</td>\n",
       "      <td>Forrest Gump_1994</td>\n",
       "      <td>8.5</td>\n",
       "    </tr>\n",
       "    <tr>\n",
       "      <th>5264</th>\n",
       "      <td>piotrr99</td>\n",
       "      <td>Pulp Fiction_1994</td>\n",
       "      <td>8.3</td>\n",
       "    </tr>\n",
       "    <tr>\n",
       "      <th>5744</th>\n",
       "      <td>sokoly35</td>\n",
       "      <td>Skazani na Shawshank_1994</td>\n",
       "      <td>8.8</td>\n",
       "    </tr>\n",
       "    <tr>\n",
       "      <th>7433</th>\n",
       "      <td>sokoly35</td>\n",
       "      <td>Zielona mila_1999</td>\n",
       "      <td>8.6</td>\n",
       "    </tr>\n",
       "    <tr>\n",
       "      <th>4163</th>\n",
       "      <td>sokoly35</td>\n",
       "      <td>Nietykalni_2011</td>\n",
       "      <td>8.6</td>\n",
       "    </tr>\n",
       "    <tr>\n",
       "      <th>1867</th>\n",
       "      <td>sokoly35</td>\n",
       "      <td>Forrest Gump_1994</td>\n",
       "      <td>8.5</td>\n",
       "    </tr>\n",
       "    <tr>\n",
       "      <th>5264</th>\n",
       "      <td>sokoly35</td>\n",
       "      <td>Pulp Fiction_1994</td>\n",
       "      <td>8.3</td>\n",
       "    </tr>\n",
       "  </tbody>\n",
       "</table>\n",
       "</div>"
      ],
      "text/plain": [
       "           User                      Title  Rating\n",
       "5744  honorciak  Skazani na Shawshank_1994     8.8\n",
       "7433  honorciak          Zielona mila_1999     8.6\n",
       "4163  honorciak            Nietykalni_2011     8.6\n",
       "1867  honorciak          Forrest Gump_1994     8.5\n",
       "5264  honorciak          Pulp Fiction_1994     8.3\n",
       "5744   piotrr99  Skazani na Shawshank_1994     8.8\n",
       "7433   piotrr99          Zielona mila_1999     8.6\n",
       "4163   piotrr99            Nietykalni_2011     8.6\n",
       "1867   piotrr99          Forrest Gump_1994     8.5\n",
       "5264   piotrr99          Pulp Fiction_1994     8.3\n",
       "5744   sokoly35  Skazani na Shawshank_1994     8.8\n",
       "7433   sokoly35          Zielona mila_1999     8.6\n",
       "4163   sokoly35            Nietykalni_2011     8.6\n",
       "1867   sokoly35          Forrest Gump_1994     8.5\n",
       "5264   sokoly35          Pulp Fiction_1994     8.3"
      ]
     },
     "execution_count": 10,
     "metadata": {},
     "output_type": "execute_result"
    }
   ],
   "source": [
    "# example of usage\n",
    "ucs_recommender = UCSRecommender(df_user, df_movie)\n",
    "ucs_recommender.train(df_user)\n",
    "recommendations = ucs_recommender.predict(\n",
    "    df_user=df_user_validation, num_of_recomendations=5\n",
    ")\n",
    "decode(recommendations, user_dict, movie_dict)"
   ]
  },
  {
   "cell_type": "markdown",
   "metadata": {
    "pycharm": {
     "name": "#%% md\n"
    }
   },
   "source": [
    "# 2. Collaborative filtering\n",
    "* user similarity"
   ]
  },
  {
   "cell_type": "code",
   "execution_count": 11,
   "metadata": {
    "pycharm": {
     "name": "#%%\n"
    }
   },
   "outputs": [
    {
     "data": {
      "text/html": [
       "<div>\n",
       "<style scoped>\n",
       "    .dataframe tbody tr th:only-of-type {\n",
       "        vertical-align: middle;\n",
       "    }\n",
       "\n",
       "    .dataframe tbody tr th {\n",
       "        vertical-align: top;\n",
       "    }\n",
       "\n",
       "    .dataframe thead th {\n",
       "        text-align: right;\n",
       "    }\n",
       "</style>\n",
       "<table border=\"1\" class=\"dataframe\">\n",
       "  <thead>\n",
       "    <tr style=\"text-align: right;\">\n",
       "      <th></th>\n",
       "      <th>User</th>\n",
       "      <th>Title</th>\n",
       "      <th>Rating</th>\n",
       "    </tr>\n",
       "  </thead>\n",
       "  <tbody>\n",
       "    <tr>\n",
       "      <th>1866</th>\n",
       "      <td>honorciak</td>\n",
       "      <td>Forrest Gump_1994</td>\n",
       "      <td>8.606907</td>\n",
       "    </tr>\n",
       "    <tr>\n",
       "      <th>2091</th>\n",
       "      <td>honorciak</td>\n",
       "      <td>Gran Torino_2008</td>\n",
       "      <td>8.494033</td>\n",
       "    </tr>\n",
       "    <tr>\n",
       "      <th>4162</th>\n",
       "      <td>honorciak</td>\n",
       "      <td>Nietykalni_2011</td>\n",
       "      <td>8.478555</td>\n",
       "    </tr>\n",
       "    <tr>\n",
       "      <th>1535</th>\n",
       "      <td>honorciak</td>\n",
       "      <td>Dwunastu gniewnych ludzi_1957</td>\n",
       "      <td>8.447567</td>\n",
       "    </tr>\n",
       "    <tr>\n",
       "      <th>3297</th>\n",
       "      <td>honorciak</td>\n",
       "      <td>Lista Schindlera_1993</td>\n",
       "      <td>8.446903</td>\n",
       "    </tr>\n",
       "    <tr>\n",
       "      <th>...</th>\n",
       "      <td>...</td>\n",
       "      <td>...</td>\n",
       "      <td>...</td>\n",
       "    </tr>\n",
       "    <tr>\n",
       "      <th>2697</th>\n",
       "      <td>sokoly35</td>\n",
       "      <td>Kac Wawa_2011</td>\n",
       "      <td>4.725012</td>\n",
       "    </tr>\n",
       "    <tr>\n",
       "      <th>5566</th>\n",
       "      <td>sokoly35</td>\n",
       "      <td>Sausage Party_2016</td>\n",
       "      <td>4.536387</td>\n",
       "    </tr>\n",
       "    <tr>\n",
       "      <th>558</th>\n",
       "      <td>sokoly35</td>\n",
       "      <td>Bejbi blues_2012</td>\n",
       "      <td>4.413749</td>\n",
       "    </tr>\n",
       "    <tr>\n",
       "      <th>4815</th>\n",
       "      <td>sokoly35</td>\n",
       "      <td>Pięćdziesiąt twarzy Greya_2015</td>\n",
       "      <td>4.380982</td>\n",
       "    </tr>\n",
       "    <tr>\n",
       "      <th>78</th>\n",
       "      <td>sokoly35</td>\n",
       "      <td>365 dni_2020</td>\n",
       "      <td>3.420058</td>\n",
       "    </tr>\n",
       "  </tbody>\n",
       "</table>\n",
       "<p>22952 rows × 3 columns</p>\n",
       "</div>"
      ],
      "text/plain": [
       "           User                           Title    Rating\n",
       "1866  honorciak               Forrest Gump_1994  8.606907\n",
       "2091  honorciak                Gran Torino_2008  8.494033\n",
       "4162  honorciak                 Nietykalni_2011  8.478555\n",
       "1535  honorciak   Dwunastu gniewnych ludzi_1957  8.447567\n",
       "3297  honorciak           Lista Schindlera_1993  8.446903\n",
       "...         ...                             ...       ...\n",
       "2697   sokoly35                   Kac Wawa_2011  4.725012\n",
       "5566   sokoly35              Sausage Party_2016  4.536387\n",
       "558    sokoly35                Bejbi blues_2012  4.413749\n",
       "4815   sokoly35  Pięćdziesiąt twarzy Greya_2015  4.380982\n",
       "78     sokoly35                    365 dni_2020  3.420058\n",
       "\n",
       "[22952 rows x 3 columns]"
      ]
     },
     "execution_count": 11,
     "metadata": {},
     "output_type": "execute_result"
    }
   ],
   "source": [
    "cf_recommender = CFRecommender(pd.concat([df_user, df_user_validation]), df_movie)\n",
    "cf_recommender.train(pd.concat([df_user, df_user_validation]))\n",
    "recommendations = cf_recommender.predict(df_user_validation, None)\n",
    "\n",
    "decode(recommendations, user_dict, movie_dict)"
   ]
  },
  {
   "cell_type": "markdown",
   "metadata": {
    "pycharm": {
     "name": "#%% md\n"
    }
   },
   "source": [
    "# 3. Content based\n",
    "* movie similarity"
   ]
  },
  {
   "cell_type": "code",
   "execution_count": 12,
   "metadata": {},
   "outputs": [],
   "source": [
    "# cb_recommender = CBRecommender(df_movie)\n",
    "# recommendations = cb_recommender.predict(\n",
    "#     df_user=df_user_validation, num_of_recomendations=None\n",
    "# )\n",
    "# decode(recommendations, user_dict, movie_dict)"
   ]
  },
  {
   "cell_type": "markdown",
   "metadata": {
    "pycharm": {
     "name": "#%% md\n"
    }
   },
   "source": [
    "# 4. Final model"
   ]
  },
  {
   "cell_type": "code",
   "execution_count": 13,
   "metadata": {
    "pycharm": {
     "name": "#%%\n"
    }
   },
   "outputs": [
    {
     "data": {
      "text/html": [
       "<div>\n",
       "<style scoped>\n",
       "    .dataframe tbody tr th:only-of-type {\n",
       "        vertical-align: middle;\n",
       "    }\n",
       "\n",
       "    .dataframe tbody tr th {\n",
       "        vertical-align: top;\n",
       "    }\n",
       "\n",
       "    .dataframe thead th {\n",
       "        text-align: right;\n",
       "    }\n",
       "</style>\n",
       "<table border=\"1\" class=\"dataframe\">\n",
       "  <thead>\n",
       "    <tr style=\"text-align: right;\">\n",
       "      <th></th>\n",
       "      <th>User</th>\n",
       "      <th>Title</th>\n",
       "      <th>Rating</th>\n",
       "    </tr>\n",
       "  </thead>\n",
       "  <tbody>\n",
       "    <tr>\n",
       "      <th>1867</th>\n",
       "      <td>honorciak</td>\n",
       "      <td>Palm Springs_2020</td>\n",
       "      <td>6.716824</td>\n",
       "    </tr>\n",
       "    <tr>\n",
       "      <th>417</th>\n",
       "      <td>honorciak</td>\n",
       "      <td>Odrobina chaosu_2014</td>\n",
       "      <td>6.703038</td>\n",
       "    </tr>\n",
       "    <tr>\n",
       "      <th>5744</th>\n",
       "      <td>honorciak</td>\n",
       "      <td>Za pięć dwunasta_2007</td>\n",
       "      <td>6.691541</td>\n",
       "    </tr>\n",
       "    <tr>\n",
       "      <th>3258</th>\n",
       "      <td>honorciak</td>\n",
       "      <td>Twarz_2017</td>\n",
       "      <td>6.606121</td>\n",
       "    </tr>\n",
       "    <tr>\n",
       "      <th>4163</th>\n",
       "      <td>honorciak</td>\n",
       "      <td>Hitch: Najlepszy doradca przeciętnego faceta_2005</td>\n",
       "      <td>6.590963</td>\n",
       "    </tr>\n",
       "    <tr>\n",
       "      <th>...</th>\n",
       "      <td>...</td>\n",
       "      <td>...</td>\n",
       "      <td>...</td>\n",
       "    </tr>\n",
       "    <tr>\n",
       "      <th>6263</th>\n",
       "      <td>sokoly35</td>\n",
       "      <td>Dziewczyna ze zdjęcia_2022</td>\n",
       "      <td>0.235745</td>\n",
       "    </tr>\n",
       "    <tr>\n",
       "      <th>6448</th>\n",
       "      <td>sokoly35</td>\n",
       "      <td>Cisza_2010</td>\n",
       "      <td>0.228596</td>\n",
       "    </tr>\n",
       "    <tr>\n",
       "      <th>6466</th>\n",
       "      <td>sokoly35</td>\n",
       "      <td>Chwała dziwkom_2011</td>\n",
       "      <td>0.227967</td>\n",
       "    </tr>\n",
       "    <tr>\n",
       "      <th>7446</th>\n",
       "      <td>sokoly35</td>\n",
       "      <td>Głęboka woda_2022</td>\n",
       "      <td>0.166056</td>\n",
       "    </tr>\n",
       "    <tr>\n",
       "      <th>7496</th>\n",
       "      <td>sokoly35</td>\n",
       "      <td>Baba Jaga_2016</td>\n",
       "      <td>0.160173</td>\n",
       "    </tr>\n",
       "  </tbody>\n",
       "</table>\n",
       "<p>23199 rows × 3 columns</p>\n",
       "</div>"
      ],
      "text/plain": [
       "           User                                              Title    Rating\n",
       "1867  honorciak                                  Palm Springs_2020  6.716824\n",
       "417   honorciak                               Odrobina chaosu_2014  6.703038\n",
       "5744  honorciak                              Za pięć dwunasta_2007  6.691541\n",
       "3258  honorciak                                         Twarz_2017  6.606121\n",
       "4163  honorciak  Hitch: Najlepszy doradca przeciętnego faceta_2005  6.590963\n",
       "...         ...                                                ...       ...\n",
       "6263   sokoly35                         Dziewczyna ze zdjęcia_2022  0.235745\n",
       "6448   sokoly35                                         Cisza_2010  0.228596\n",
       "6466   sokoly35                                Chwała dziwkom_2011  0.227967\n",
       "7446   sokoly35                                  Głęboka woda_2022  0.166056\n",
       "7496   sokoly35                                     Baba Jaga_2016  0.160173\n",
       "\n",
       "[23199 rows x 3 columns]"
      ]
     },
     "execution_count": 13,
     "metadata": {},
     "output_type": "execute_result"
    }
   ],
   "source": [
    "recommender = Recommender_suspected(df_user, df_movie)\n",
    "recommender.train(df_user)\n",
    "recommendations = recommender.predict(\n",
    "    df_user=df_user_validation, num_of_recomendations=-1\n",
    ")\n",
    "decode(recommendations, user_dict, movie_dict)"
   ]
  }
 ],
 "metadata": {
  "kernelspec": {
   "display_name": "Python 3.8.10 ('filmweb-recommendation-system-GVyfliQa-py3.8')",
   "language": "python",
   "name": "python3"
  },
  "language_info": {
   "codemirror_mode": {
    "name": "ipython",
    "version": 3
   },
   "file_extension": ".py",
   "mimetype": "text/x-python",
   "name": "python",
   "nbconvert_exporter": "python",
   "pygments_lexer": "ipython3",
   "version": "3.8.10"
  },
  "vscode": {
   "interpreter": {
    "hash": "8254b358732005ea123a8d085ce856acf9de004e7ea62cad06c98d209f30aebc"
   }
  }
 },
 "nbformat": 4,
 "nbformat_minor": 1
}
