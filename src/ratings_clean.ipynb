{
 "cells": [
  {
   "cell_type": "code",
   "execution_count": null,
   "id": "3a324394",
   "metadata": {},
   "outputs": [],
   "source": [
    "import requests\n",
    "from bs4 import BeautifulSoup\n",
    "from selenium.webdriver import *\n",
    "from selenium.webdriver.common.by import By\n",
    "import time\n",
    "from selenium.webdriver.chrome.options import Options\n",
    "from selenium.webdriver.support.ui import WebDriverWait\n",
    "from selenium.webdriver.support import expected_conditions as EC\n",
    "import pickle"
   ]
  },
  {
   "cell_type": "code",
   "execution_count": null,
   "id": "6e8cdab1",
   "metadata": {},
   "outputs": [],
   "source": [
    "ID = \"id\"\n",
    "NAME = \"name\"\n",
    "XPATH = \"xpath\"\n",
    "LINK_TEXT = \"link text\"\n",
    "PARTIAL_LINK_TEXT = \"partial link text\"\n",
    "TAG_NAME = \"tag name\"\n",
    "CLASS_NAME = \"class name\"\n",
    "CSS_SELECTOR = \"css selector\""
   ]
  },
  {
   "cell_type": "code",
   "execution_count": null,
   "id": "8bbbe6b3",
   "metadata": {},
   "outputs": [],
   "source": [
    "def create_browser():\n",
    "    \"\"\"\n",
    "    Function creating browser object.\n",
    "    \"\"\"\n",
    "    # add options to disable pop-ups\n",
    "    chrome_options = Options()\n",
    "    chrome_options.add_argument(\"--no-sandbox\")\n",
    "    chrome_options.add_argument('disable-notifications')\n",
    "    # return browser object\n",
    "    chrome = Chrome(options=chrome_options)\n",
    "    return chrome"
   ]
  },
  {
   "cell_type": "code",
   "execution_count": null,
   "id": "a1eca7ac",
   "metadata": {},
   "outputs": [],
   "source": [
    "def get_user_page_first_time(chrome, user):\n",
    "    \"\"\"\n",
    "    Function loading the basic page.\n",
    "    \"\"\"\n",
    "    # load page\n",
    "    chrome.get(f\"https://www.filmweb.pl/user/{user}/films\")\n",
    "    # agree to terms of use\n",
    "    chrome.find_element(By.ID, 'didomi-notice-agree-button').click()\n",
    "    # wait until the advertisement ends\n",
    "    time.sleep(35)\n",
    "    chrome.maximize_window()\n",
    "    time.sleep(10)"
   ]
  },
  {
   "cell_type": "code",
   "execution_count": null,
   "id": "99aff50e",
   "metadata": {},
   "outputs": [],
   "source": [
    "def get_user_page(chrome, user):\n",
    "    \"\"\"\n",
    "    Function to get the user page.\n",
    "    \"\"\"\n",
    "    # load page\n",
    "    chrome.get(f\"https://www.filmweb.pl/user/{user}/films\")\n",
    "    chrome.maximize_window()\n",
    "    time.sleep(10)"
   ]
  },
  {
   "cell_type": "code",
   "execution_count": null,
   "id": "d4f3a29f",
   "metadata": {},
   "outputs": [],
   "source": [
    "def login_to_facebook(chrome, email, user_password):\n",
    "    \"\"\"\n",
    "    Function logging to Facebook.\n",
    "    \"\"\"\n",
    "    for i in range(20):\n",
    "        chrome.execute_script(f\"window.scrollBy(0,{i})\",\"\")\n",
    "        \n",
    "    chrome.find_element(By.CLASS_NAME, 'facebookLoginButton__button').click()\n",
    "    \n",
    "    # get window to scroll that showed up\n",
    "    scrollable = chrome.find_element(By.CLASS_NAME, '_4t2a')\n",
    "    chrome.execute_script(\"return arguments[0].scrollIntoView(true);\", scrollable)\n",
    "    chrome.execute_script(\"window.scrollTo(0, document.body.scrollHeight);\")\n",
    "    \n",
    "    # click whatever\n",
    "    button = chrome.find_element(By.CLASS_NAME, '_9xo5')\n",
    "    button.click()\n",
    "    \n",
    "    # get all elements needed to log in\n",
    "    login = chrome.find_element(By.ID, 'email')\n",
    "    password = chrome.find_element(By.ID, 'pass')\n",
    "    submit = chrome.find_element(By.ID, 'loginbutton')\n",
    "    \n",
    "    # enter credentials\n",
    "    # login.click()\n",
    "    login.send_keys(email)\n",
    "    # password.click()\n",
    "    password.send_keys(user_password)\n",
    "    \n",
    "    # click submit\n",
    "    submit.click()\n",
    "    \n",
    "    time.sleep(10)"
   ]
  },
  {
   "cell_type": "code",
   "execution_count": null,
   "id": "64fdbebc",
   "metadata": {},
   "outputs": [],
   "source": [
    "def get_ratings(chrome):\n",
    "    \"\"\"\n",
    "    Function returning ratings from the first page.\n",
    "    \"\"\"\n",
    "    # scroll down to load ratings\n",
    "    for i in range(1000):\n",
    "        chrome.execute_script(f\"window.scrollBy(0,{i})\",\"\")\n",
    "    \n",
    "    # get ratings\n",
    "    ratings = chrome.find_elements(By.CLASS_NAME, 'userRate__container')\n",
    "    ratings_list = [r.text for r in ratings]\n",
    "\n",
    "    # get film names\n",
    "    film_names = chrome.find_elements(By.CLASS_NAME, 'preview__link')\n",
    "    film_names_list = [f.text for f in film_names]\n",
    "    \n",
    "    # get year of production\n",
    "    preview_years = chrome.find_elements(By.CLASS_NAME, 'preview__year')\n",
    "    preview_years_list = [p.text for p in preview_years]\n",
    "    \n",
    "    zipped_values = list(zip(film_names_list, \n",
    "                             preview_years_list,\n",
    "                             ratings_list))\n",
    "    \n",
    "    return zipped_values\n",
    "    \n",
    "    "
   ]
  },
  {
   "cell_type": "code",
   "execution_count": null,
   "id": "28069391",
   "metadata": {},
   "outputs": [],
   "source": [
    "def get_all_user_ratings(chrome, user):\n",
    "    \"\"\"\n",
    "    Function returning all ratings of given user.\n",
    "    The results are written to pickle files.\n",
    "    \"\"\"\n",
    "    # get ratings from the first page\n",
    "    first = get_ratings(chrome)\n",
    "    print(first)\n",
    "    \n",
    "    # prepare placeholders for ratings\n",
    "    old = []\n",
    "    new = first\n",
    "    \n",
    "    # starting page number\n",
    "    page = 2\n",
    "    \n",
    "    # iterate as long as there are films ratings on the next pages\n",
    "    while (len(new) > 0) and (old != new):\n",
    "        print(page)\n",
    "        chrome.get(f\"https://www.filmweb.pl/user/{user}/films?page={page}\")\n",
    "        x = get_ratings(chrome)\n",
    "        print(x)\n",
    "        page += 1\n",
    "        old, new = old + new, x\n",
    "        \n",
    "    if len(old) > 0:\n",
    "        with open(f\"{user}.pickle\", 'wb') as handle:\n",
    "            pickle.dump(old, handle, protocol=pickle.HIGHEST_PROTOCOL)"
   ]
  },
  {
   "cell_type": "code",
   "execution_count": null,
   "id": "d2fcbac6",
   "metadata": {},
   "outputs": [],
   "source": [
    "def get_user_friends(chrome, user):\n",
    "    \"\"\"\n",
    "    Function returning the list of user friends.\n",
    "    \"\"\"\n",
    "    chrome.get(f\"https://www.filmweb.pl/user/{user}/friends\")\n",
    "    friends = chrome.find_elements(By.CLASS_NAME, 'user__nick')\n",
    "    friends_list = [f.get_attribute('textContent').strip() for f in friends]\n",
    "    \n",
    "    return friends_list"
   ]
  },
  {
   "cell_type": "code",
   "execution_count": null,
   "id": "bbdbccfb",
   "metadata": {},
   "outputs": [],
   "source": [
    "def get_ratings_for_all_friends(chrome, user):\n",
    "    \"\"\"\n",
    "    Summary function: get all ratings for all friends.\n",
    "    \"\"\"\n",
    "    friends_list = get_user_friends(chrome, user)\n",
    "    for user in friends_list:\n",
    "        print(f\"Displaying results for user {user}\")\n",
    "        chrome.get(f\"https://www.filmweb.pl/user/{user}/films\")\n",
    "        get_all_user_ratings(chrome, user)"
   ]
  },
  {
   "cell_type": "code",
   "execution_count": null,
   "id": "50fc1468",
   "metadata": {},
   "outputs": [],
   "source": [
    "# EXAMPLE USE\n",
    "\n",
    "# 1. create browser object.\n",
    "chrome = create_browser()\n",
    "\n",
    "# 2. load the first page, accept usage terms etc.\n",
    "get_user_page_first_time(chrome, \"<your_user_name>\")\n",
    "\n",
    "# 3. login to Facebook. In case it fails, just do it by hand in this special browser window.\n",
    "login_to_facebook(chrome, \"<your_email>\", \"<your_password>\")\n",
    "\n",
    "# 4. congrats! you are ready to get the records\n",
    "get_ratings_for_all_friends(chrome, \"honorciak\")\n",
    "\n",
    "# 5. if something fails in between, you can get records just for one user\n",
    "get_all_user_ratings(chrome, user)"
   ]
  },
  {
   "cell_type": "code",
   "execution_count": null,
   "id": "c1eb818d",
   "metadata": {},
   "outputs": [],
   "source": []
  }
 ],
 "metadata": {
  "kernelspec": {
   "display_name": "Python 3 (ipykernel)",
   "language": "python",
   "name": "python3"
  },
  "language_info": {
   "codemirror_mode": {
    "name": "ipython",
    "version": 3
   },
   "file_extension": ".py",
   "mimetype": "text/x-python",
   "name": "python",
   "nbconvert_exporter": "python",
   "pygments_lexer": "ipython3",
   "version": "3.9.7"
  },
  "vscode": {
   "interpreter": {
    "hash": "8254b358732005ea123a8d085ce856acf9de004e7ea62cad06c98d209f30aebc"
   }
  }
 },
 "nbformat": 4,
 "nbformat_minor": 5
}
