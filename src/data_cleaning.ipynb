{
 "cells": [
  {
   "cell_type": "code",
   "execution_count": 1,
   "id": "06d4e0c8",
   "metadata": {},
   "outputs": [],
   "source": [
    "%load_ext autoreload\n",
    "%autoreload 2"
   ]
  },
  {
   "cell_type": "code",
   "execution_count": 2,
   "id": "b8de384d",
   "metadata": {},
   "outputs": [],
   "source": [
    "from data_import import clean_and_save_data, load_data"
   ]
  },
  {
   "cell_type": "markdown",
   "id": "a934afb5",
   "metadata": {},
   "source": [
    "# Data Preparation"
   ]
  },
  {
   "cell_type": "markdown",
   "id": "a7782fa8",
   "metadata": {},
   "source": [
    "Firstly, you have to properly process data from pickle files. Use `clean_and_save_data`"
   ]
  },
  {
   "cell_type": "code",
   "execution_count": 5,
   "id": "7c70e93b",
   "metadata": {},
   "outputs": [],
   "source": [
    "df1, df2 = clean_and_save_data()"
   ]
  },
  {
   "cell_type": "code",
   "execution_count": 6,
   "id": "76560270",
   "metadata": {},
   "outputs": [
    {
     "data": {
      "text/html": [
       "<div>\n",
       "<style scoped>\n",
       "    .dataframe tbody tr th:only-of-type {\n",
       "        vertical-align: middle;\n",
       "    }\n",
       "\n",
       "    .dataframe tbody tr th {\n",
       "        vertical-align: top;\n",
       "    }\n",
       "\n",
       "    .dataframe thead th {\n",
       "        text-align: right;\n",
       "    }\n",
       "</style>\n",
       "<table border=\"1\" class=\"dataframe\">\n",
       "  <thead>\n",
       "    <tr style=\"text-align: right;\">\n",
       "      <th></th>\n",
       "      <th>User</th>\n",
       "      <th>Title</th>\n",
       "      <th>Rating</th>\n",
       "    </tr>\n",
       "  </thead>\n",
       "  <tbody>\n",
       "    <tr>\n",
       "      <th>0</th>\n",
       "      <td>79villemo</td>\n",
       "      <td>Cząstki kobiety</td>\n",
       "      <td>7.0</td>\n",
       "    </tr>\n",
       "    <tr>\n",
       "      <th>1</th>\n",
       "      <td>79villemo</td>\n",
       "      <td>Palmy w śniegu</td>\n",
       "      <td>7.0</td>\n",
       "    </tr>\n",
       "    <tr>\n",
       "      <th>2</th>\n",
       "      <td>79villemo</td>\n",
       "      <td>Małe kobietki</td>\n",
       "      <td>8.0</td>\n",
       "    </tr>\n",
       "    <tr>\n",
       "      <th>3</th>\n",
       "      <td>79villemo</td>\n",
       "      <td>Kwiat pustyni</td>\n",
       "      <td>7.0</td>\n",
       "    </tr>\n",
       "    <tr>\n",
       "      <th>4</th>\n",
       "      <td>79villemo</td>\n",
       "      <td>To</td>\n",
       "      <td>6.0</td>\n",
       "    </tr>\n",
       "  </tbody>\n",
       "</table>\n",
       "</div>"
      ],
      "text/plain": [
       "        User            Title  Rating\n",
       "0  79villemo  Cząstki kobiety     7.0\n",
       "1  79villemo   Palmy w śniegu     7.0\n",
       "2  79villemo    Małe kobietki     8.0\n",
       "3  79villemo    Kwiat pustyni     7.0\n",
       "4  79villemo               To     6.0"
      ]
     },
     "execution_count": 6,
     "metadata": {},
     "output_type": "execute_result"
    }
   ],
   "source": [
    "df1.head()"
   ]
  },
  {
   "cell_type": "code",
   "execution_count": 7,
   "id": "d3137038",
   "metadata": {},
   "outputs": [
    {
     "data": {
      "text/html": [
       "<div>\n",
       "<style scoped>\n",
       "    .dataframe tbody tr th:only-of-type {\n",
       "        vertical-align: middle;\n",
       "    }\n",
       "\n",
       "    .dataframe tbody tr th {\n",
       "        vertical-align: top;\n",
       "    }\n",
       "\n",
       "    .dataframe thead th {\n",
       "        text-align: right;\n",
       "    }\n",
       "</style>\n",
       "<table border=\"1\" class=\"dataframe\">\n",
       "  <thead>\n",
       "    <tr style=\"text-align: right;\">\n",
       "      <th></th>\n",
       "      <th>Title</th>\n",
       "      <th>Year</th>\n",
       "      <th>Genre</th>\n",
       "      <th>Actor</th>\n",
       "      <th>Avg_rating</th>\n",
       "      <th>Number_of_ratings</th>\n",
       "    </tr>\n",
       "  </thead>\n",
       "  <tbody>\n",
       "    <tr>\n",
       "      <th>0</th>\n",
       "      <td>Cząstki kobiety</td>\n",
       "      <td>2020</td>\n",
       "      <td>Dramat</td>\n",
       "      <td>Vanessa Kirby</td>\n",
       "      <td>7.1</td>\n",
       "      <td>26670</td>\n",
       "    </tr>\n",
       "    <tr>\n",
       "      <th>1</th>\n",
       "      <td>Cząstki kobiety</td>\n",
       "      <td>2020</td>\n",
       "      <td>Dramat</td>\n",
       "      <td>Shia LaBeouf</td>\n",
       "      <td>7.1</td>\n",
       "      <td>26670</td>\n",
       "    </tr>\n",
       "    <tr>\n",
       "      <th>2</th>\n",
       "      <td>Palmy w śniegu</td>\n",
       "      <td>2015</td>\n",
       "      <td>Dramat</td>\n",
       "      <td>Mario Casas</td>\n",
       "      <td>7.6</td>\n",
       "      <td>17870</td>\n",
       "    </tr>\n",
       "    <tr>\n",
       "      <th>3</th>\n",
       "      <td>Palmy w śniegu</td>\n",
       "      <td>2015</td>\n",
       "      <td>Dramat</td>\n",
       "      <td>Adriana Ugarte</td>\n",
       "      <td>7.6</td>\n",
       "      <td>17870</td>\n",
       "    </tr>\n",
       "    <tr>\n",
       "      <th>4</th>\n",
       "      <td>Małe kobietki</td>\n",
       "      <td>2019</td>\n",
       "      <td>Melodramat</td>\n",
       "      <td>Saoirse Ronan</td>\n",
       "      <td>7.4</td>\n",
       "      <td>69798</td>\n",
       "    </tr>\n",
       "  </tbody>\n",
       "</table>\n",
       "</div>"
      ],
      "text/plain": [
       "             Title  Year       Genre           Actor  Avg_rating  \\\n",
       "0  Cząstki kobiety  2020      Dramat   Vanessa Kirby         7.1   \n",
       "1  Cząstki kobiety  2020      Dramat    Shia LaBeouf         7.1   \n",
       "2   Palmy w śniegu  2015      Dramat     Mario Casas         7.6   \n",
       "3   Palmy w śniegu  2015      Dramat  Adriana Ugarte         7.6   \n",
       "4    Małe kobietki  2019  Melodramat   Saoirse Ronan         7.4   \n",
       "\n",
       "   Number_of_ratings  \n",
       "0              26670  \n",
       "1              26670  \n",
       "2              17870  \n",
       "3              17870  \n",
       "4              69798  "
      ]
     },
     "execution_count": 7,
     "metadata": {},
     "output_type": "execute_result"
    }
   ],
   "source": [
    "df2.head()"
   ]
  },
  {
   "cell_type": "markdown",
   "id": "1507ba69",
   "metadata": {},
   "source": [
    "`df1` and `df2` will be saved to csv files. After running `clean_and_save_data`. For further analysis you can simply run `load_data` method"
   ]
  },
  {
   "cell_type": "code",
   "execution_count": 8,
   "id": "8f7403ab",
   "metadata": {},
   "outputs": [],
   "source": [
    "df1, df2 = load_data()"
   ]
  },
  {
   "cell_type": "code",
   "execution_count": 9,
   "id": "290fc210",
   "metadata": {},
   "outputs": [
    {
     "data": {
      "text/html": [
       "<div>\n",
       "<style scoped>\n",
       "    .dataframe tbody tr th:only-of-type {\n",
       "        vertical-align: middle;\n",
       "    }\n",
       "\n",
       "    .dataframe tbody tr th {\n",
       "        vertical-align: top;\n",
       "    }\n",
       "\n",
       "    .dataframe thead th {\n",
       "        text-align: right;\n",
       "    }\n",
       "</style>\n",
       "<table border=\"1\" class=\"dataframe\">\n",
       "  <thead>\n",
       "    <tr style=\"text-align: right;\">\n",
       "      <th></th>\n",
       "      <th>User</th>\n",
       "      <th>Title</th>\n",
       "      <th>Rating</th>\n",
       "    </tr>\n",
       "  </thead>\n",
       "  <tbody>\n",
       "    <tr>\n",
       "      <th>0</th>\n",
       "      <td>79villemo</td>\n",
       "      <td>Cząstki kobiety</td>\n",
       "      <td>7.0</td>\n",
       "    </tr>\n",
       "    <tr>\n",
       "      <th>1</th>\n",
       "      <td>79villemo</td>\n",
       "      <td>Palmy w śniegu</td>\n",
       "      <td>7.0</td>\n",
       "    </tr>\n",
       "    <tr>\n",
       "      <th>2</th>\n",
       "      <td>79villemo</td>\n",
       "      <td>Małe kobietki</td>\n",
       "      <td>8.0</td>\n",
       "    </tr>\n",
       "    <tr>\n",
       "      <th>3</th>\n",
       "      <td>79villemo</td>\n",
       "      <td>Kwiat pustyni</td>\n",
       "      <td>7.0</td>\n",
       "    </tr>\n",
       "    <tr>\n",
       "      <th>4</th>\n",
       "      <td>79villemo</td>\n",
       "      <td>To</td>\n",
       "      <td>6.0</td>\n",
       "    </tr>\n",
       "  </tbody>\n",
       "</table>\n",
       "</div>"
      ],
      "text/plain": [
       "        User            Title  Rating\n",
       "0  79villemo  Cząstki kobiety     7.0\n",
       "1  79villemo   Palmy w śniegu     7.0\n",
       "2  79villemo    Małe kobietki     8.0\n",
       "3  79villemo    Kwiat pustyni     7.0\n",
       "4  79villemo               To     6.0"
      ]
     },
     "execution_count": 9,
     "metadata": {},
     "output_type": "execute_result"
    }
   ],
   "source": [
    "df1.head()"
   ]
  },
  {
   "cell_type": "code",
   "execution_count": 10,
   "id": "68760310",
   "metadata": {},
   "outputs": [
    {
     "data": {
      "text/html": [
       "<div>\n",
       "<style scoped>\n",
       "    .dataframe tbody tr th:only-of-type {\n",
       "        vertical-align: middle;\n",
       "    }\n",
       "\n",
       "    .dataframe tbody tr th {\n",
       "        vertical-align: top;\n",
       "    }\n",
       "\n",
       "    .dataframe thead th {\n",
       "        text-align: right;\n",
       "    }\n",
       "</style>\n",
       "<table border=\"1\" class=\"dataframe\">\n",
       "  <thead>\n",
       "    <tr style=\"text-align: right;\">\n",
       "      <th></th>\n",
       "      <th>Title</th>\n",
       "      <th>Year</th>\n",
       "      <th>Genre</th>\n",
       "      <th>Actor</th>\n",
       "      <th>Avg_rating</th>\n",
       "      <th>Number_of_ratings</th>\n",
       "    </tr>\n",
       "  </thead>\n",
       "  <tbody>\n",
       "    <tr>\n",
       "      <th>0</th>\n",
       "      <td>Cząstki kobiety</td>\n",
       "      <td>2020</td>\n",
       "      <td>Dramat</td>\n",
       "      <td>Vanessa Kirby</td>\n",
       "      <td>7.1</td>\n",
       "      <td>26670</td>\n",
       "    </tr>\n",
       "    <tr>\n",
       "      <th>1</th>\n",
       "      <td>Cząstki kobiety</td>\n",
       "      <td>2020</td>\n",
       "      <td>Dramat</td>\n",
       "      <td>Shia LaBeouf</td>\n",
       "      <td>7.1</td>\n",
       "      <td>26670</td>\n",
       "    </tr>\n",
       "    <tr>\n",
       "      <th>2</th>\n",
       "      <td>Palmy w śniegu</td>\n",
       "      <td>2015</td>\n",
       "      <td>Dramat</td>\n",
       "      <td>Mario Casas</td>\n",
       "      <td>7.6</td>\n",
       "      <td>17870</td>\n",
       "    </tr>\n",
       "    <tr>\n",
       "      <th>3</th>\n",
       "      <td>Palmy w śniegu</td>\n",
       "      <td>2015</td>\n",
       "      <td>Dramat</td>\n",
       "      <td>Adriana Ugarte</td>\n",
       "      <td>7.6</td>\n",
       "      <td>17870</td>\n",
       "    </tr>\n",
       "    <tr>\n",
       "      <th>4</th>\n",
       "      <td>Małe kobietki</td>\n",
       "      <td>2019</td>\n",
       "      <td>Melodramat</td>\n",
       "      <td>Saoirse Ronan</td>\n",
       "      <td>7.4</td>\n",
       "      <td>69798</td>\n",
       "    </tr>\n",
       "  </tbody>\n",
       "</table>\n",
       "</div>"
      ],
      "text/plain": [
       "             Title  Year       Genre           Actor  Avg_rating  \\\n",
       "0  Cząstki kobiety  2020      Dramat   Vanessa Kirby         7.1   \n",
       "1  Cząstki kobiety  2020      Dramat    Shia LaBeouf         7.1   \n",
       "2   Palmy w śniegu  2015      Dramat     Mario Casas         7.6   \n",
       "3   Palmy w śniegu  2015      Dramat  Adriana Ugarte         7.6   \n",
       "4    Małe kobietki  2019  Melodramat   Saoirse Ronan         7.4   \n",
       "\n",
       "   Number_of_ratings  \n",
       "0              26670  \n",
       "1              26670  \n",
       "2              17870  \n",
       "3              17870  \n",
       "4              69798  "
      ]
     },
     "execution_count": 10,
     "metadata": {},
     "output_type": "execute_result"
    }
   ],
   "source": [
    "df2.head()"
   ]
  },
  {
   "cell_type": "code",
   "execution_count": 11,
   "id": "444f0b03",
   "metadata": {},
   "outputs": [
    {
     "data": {
      "text/html": [
       "<div>\n",
       "<style scoped>\n",
       "    .dataframe tbody tr th:only-of-type {\n",
       "        vertical-align: middle;\n",
       "    }\n",
       "\n",
       "    .dataframe tbody tr th {\n",
       "        vertical-align: top;\n",
       "    }\n",
       "\n",
       "    .dataframe thead th {\n",
       "        text-align: right;\n",
       "    }\n",
       "</style>\n",
       "<table border=\"1\" class=\"dataframe\">\n",
       "  <thead>\n",
       "    <tr style=\"text-align: right;\">\n",
       "      <th></th>\n",
       "      <th>User</th>\n",
       "      <th>Title</th>\n",
       "      <th>Rating</th>\n",
       "    </tr>\n",
       "  </thead>\n",
       "  <tbody>\n",
       "    <tr>\n",
       "      <th>0</th>\n",
       "      <td>79villemo</td>\n",
       "      <td>Cząstki kobiety</td>\n",
       "      <td>7.0</td>\n",
       "    </tr>\n",
       "    <tr>\n",
       "      <th>1</th>\n",
       "      <td>79villemo</td>\n",
       "      <td>Palmy w śniegu</td>\n",
       "      <td>7.0</td>\n",
       "    </tr>\n",
       "    <tr>\n",
       "      <th>2</th>\n",
       "      <td>79villemo</td>\n",
       "      <td>Małe kobietki</td>\n",
       "      <td>8.0</td>\n",
       "    </tr>\n",
       "    <tr>\n",
       "      <th>3</th>\n",
       "      <td>79villemo</td>\n",
       "      <td>Kwiat pustyni</td>\n",
       "      <td>7.0</td>\n",
       "    </tr>\n",
       "    <tr>\n",
       "      <th>4</th>\n",
       "      <td>79villemo</td>\n",
       "      <td>To</td>\n",
       "      <td>6.0</td>\n",
       "    </tr>\n",
       "  </tbody>\n",
       "</table>\n",
       "</div>"
      ],
      "text/plain": [
       "        User            Title  Rating\n",
       "0  79villemo  Cząstki kobiety     7.0\n",
       "1  79villemo   Palmy w śniegu     7.0\n",
       "2  79villemo    Małe kobietki     8.0\n",
       "3  79villemo    Kwiat pustyni     7.0\n",
       "4  79villemo               To     6.0"
      ]
     },
     "execution_count": 11,
     "metadata": {},
     "output_type": "execute_result"
    }
   ],
   "source": [
    "df1.head()"
   ]
  },
  {
   "cell_type": "code",
   "execution_count": 12,
   "id": "86da1cf9",
   "metadata": {},
   "outputs": [
    {
     "data": {
      "text/plain": [
       "User       312\n",
       "Title     7770\n",
       "Rating      10\n",
       "dtype: int64"
      ]
     },
     "execution_count": 12,
     "metadata": {},
     "output_type": "execute_result"
    }
   ],
   "source": [
    "df1.nunique()"
   ]
  },
  {
   "cell_type": "code",
   "execution_count": 13,
   "id": "07ef44c9",
   "metadata": {},
   "outputs": [
    {
     "data": {
      "text/plain": [
       "36931"
      ]
     },
     "execution_count": 13,
     "metadata": {},
     "output_type": "execute_result"
    }
   ],
   "source": [
    "len(df1)"
   ]
  },
  {
   "cell_type": "code",
   "execution_count": 14,
   "id": "c0894642",
   "metadata": {},
   "outputs": [
    {
     "data": {
      "text/html": [
       "<div>\n",
       "<style scoped>\n",
       "    .dataframe tbody tr th:only-of-type {\n",
       "        vertical-align: middle;\n",
       "    }\n",
       "\n",
       "    .dataframe tbody tr th {\n",
       "        vertical-align: top;\n",
       "    }\n",
       "\n",
       "    .dataframe thead th {\n",
       "        text-align: right;\n",
       "    }\n",
       "</style>\n",
       "<table border=\"1\" class=\"dataframe\">\n",
       "  <thead>\n",
       "    <tr style=\"text-align: right;\">\n",
       "      <th></th>\n",
       "      <th>Title</th>\n",
       "      <th>Year</th>\n",
       "      <th>Genre</th>\n",
       "      <th>Actor</th>\n",
       "      <th>Avg_rating</th>\n",
       "      <th>Number_of_ratings</th>\n",
       "    </tr>\n",
       "  </thead>\n",
       "  <tbody>\n",
       "    <tr>\n",
       "      <th>0</th>\n",
       "      <td>Cząstki kobiety</td>\n",
       "      <td>2020</td>\n",
       "      <td>Dramat</td>\n",
       "      <td>Vanessa Kirby</td>\n",
       "      <td>7.1</td>\n",
       "      <td>26670</td>\n",
       "    </tr>\n",
       "    <tr>\n",
       "      <th>1</th>\n",
       "      <td>Cząstki kobiety</td>\n",
       "      <td>2020</td>\n",
       "      <td>Dramat</td>\n",
       "      <td>Shia LaBeouf</td>\n",
       "      <td>7.1</td>\n",
       "      <td>26670</td>\n",
       "    </tr>\n",
       "    <tr>\n",
       "      <th>2</th>\n",
       "      <td>Palmy w śniegu</td>\n",
       "      <td>2015</td>\n",
       "      <td>Dramat</td>\n",
       "      <td>Mario Casas</td>\n",
       "      <td>7.6</td>\n",
       "      <td>17870</td>\n",
       "    </tr>\n",
       "    <tr>\n",
       "      <th>3</th>\n",
       "      <td>Palmy w śniegu</td>\n",
       "      <td>2015</td>\n",
       "      <td>Dramat</td>\n",
       "      <td>Adriana Ugarte</td>\n",
       "      <td>7.6</td>\n",
       "      <td>17870</td>\n",
       "    </tr>\n",
       "    <tr>\n",
       "      <th>4</th>\n",
       "      <td>Małe kobietki</td>\n",
       "      <td>2019</td>\n",
       "      <td>Melodramat</td>\n",
       "      <td>Saoirse Ronan</td>\n",
       "      <td>7.4</td>\n",
       "      <td>69798</td>\n",
       "    </tr>\n",
       "  </tbody>\n",
       "</table>\n",
       "</div>"
      ],
      "text/plain": [
       "             Title  Year       Genre           Actor  Avg_rating  \\\n",
       "0  Cząstki kobiety  2020      Dramat   Vanessa Kirby         7.1   \n",
       "1  Cząstki kobiety  2020      Dramat    Shia LaBeouf         7.1   \n",
       "2   Palmy w śniegu  2015      Dramat     Mario Casas         7.6   \n",
       "3   Palmy w śniegu  2015      Dramat  Adriana Ugarte         7.6   \n",
       "4    Małe kobietki  2019  Melodramat   Saoirse Ronan         7.4   \n",
       "\n",
       "   Number_of_ratings  \n",
       "0              26670  \n",
       "1              26670  \n",
       "2              17870  \n",
       "3              17870  \n",
       "4              69798  "
      ]
     },
     "execution_count": 14,
     "metadata": {},
     "output_type": "execute_result"
    }
   ],
   "source": [
    "df2.head()"
   ]
  },
  {
   "cell_type": "code",
   "execution_count": 15,
   "id": "b1bf6f38",
   "metadata": {},
   "outputs": [
    {
     "data": {
      "text/plain": [
       "Title                7770\n",
       "Year                  111\n",
       "Genre                 101\n",
       "Actor                7269\n",
       "Avg_rating            538\n",
       "Number_of_ratings    8558\n",
       "dtype: int64"
      ]
     },
     "execution_count": 15,
     "metadata": {},
     "output_type": "execute_result"
    }
   ],
   "source": [
    "df2.nunique()"
   ]
  }
 ],
 "metadata": {
  "kernelspec": {
   "display_name": "aud",
   "language": "python",
   "name": "aud"
  },
  "language_info": {
   "codemirror_mode": {
    "name": "ipython",
    "version": 3
   },
   "file_extension": ".py",
   "mimetype": "text/x-python",
   "name": "python",
   "nbconvert_exporter": "python",
   "pygments_lexer": "ipython3",
   "version": "3.9.13"
  }
 },
 "nbformat": 4,
 "nbformat_minor": 5
}
