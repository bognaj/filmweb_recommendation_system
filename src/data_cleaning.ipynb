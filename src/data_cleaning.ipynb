{
 "cells": [
  {
   "cell_type": "code",
   "execution_count": 1,
   "id": "a6874014",
   "metadata": {},
   "outputs": [],
   "source": [
    "from data_import import clean_and_save_data, load_data"
   ]
  },
  {
   "cell_type": "markdown",
   "id": "e406bc49",
   "metadata": {},
   "source": [
    "# Data Preparation"
   ]
  },
  {
   "cell_type": "markdown",
   "id": "703fdd1c",
   "metadata": {},
   "source": [
    "Firstly, you have to properly process data from pickle files. Use `clean_and_save_data`"
   ]
  },
  {
   "cell_type": "code",
   "execution_count": 2,
   "id": "4a59af6a",
   "metadata": {},
   "outputs": [],
   "source": [
    "df1, df2 = clean_and_save_data()"
   ]
  },
  {
   "cell_type": "code",
   "execution_count": 6,
   "id": "2ff51b81",
   "metadata": {},
   "outputs": [
    {
     "data": {
      "text/html": [
       "<div>\n",
       "<style scoped>\n",
       "    .dataframe tbody tr th:only-of-type {\n",
       "        vertical-align: middle;\n",
       "    }\n",
       "\n",
       "    .dataframe tbody tr th {\n",
       "        vertical-align: top;\n",
       "    }\n",
       "\n",
       "    .dataframe thead th {\n",
       "        text-align: right;\n",
       "    }\n",
       "</style>\n",
       "<table border=\"1\" class=\"dataframe\">\n",
       "  <thead>\n",
       "    <tr style=\"text-align: right;\">\n",
       "      <th></th>\n",
       "      <th>User</th>\n",
       "      <th>Title</th>\n",
       "      <th>Rating</th>\n",
       "    </tr>\n",
       "  </thead>\n",
       "  <tbody>\n",
       "    <tr>\n",
       "      <th>0</th>\n",
       "      <td>adam_lub</td>\n",
       "      <td>Każdy wie lepiej</td>\n",
       "      <td>6.0</td>\n",
       "    </tr>\n",
       "    <tr>\n",
       "      <th>1</th>\n",
       "      <td>adam_lub</td>\n",
       "      <td>Slow West</td>\n",
       "      <td>7.0</td>\n",
       "    </tr>\n",
       "    <tr>\n",
       "      <th>2</th>\n",
       "      <td>adam_lub</td>\n",
       "      <td>Pod słońce</td>\n",
       "      <td>7.0</td>\n",
       "    </tr>\n",
       "    <tr>\n",
       "      <th>3</th>\n",
       "      <td>adam_lub</td>\n",
       "      <td>Serce Jamajki</td>\n",
       "      <td>7.0</td>\n",
       "    </tr>\n",
       "    <tr>\n",
       "      <th>4</th>\n",
       "      <td>adam_lub</td>\n",
       "      <td>Eskorta</td>\n",
       "      <td>6.0</td>\n",
       "    </tr>\n",
       "  </tbody>\n",
       "</table>\n",
       "</div>"
      ],
      "text/plain": [
       "       User             Title  Rating\n",
       "0  adam_lub  Każdy wie lepiej     6.0\n",
       "1  adam_lub         Slow West     7.0\n",
       "2  adam_lub        Pod słońce     7.0\n",
       "3  adam_lub     Serce Jamajki     7.0\n",
       "4  adam_lub           Eskorta     6.0"
      ]
     },
     "execution_count": 6,
     "metadata": {},
     "output_type": "execute_result"
    }
   ],
   "source": [
    "df1.head()"
   ]
  },
  {
   "cell_type": "code",
   "execution_count": 7,
   "id": "b334fb2a",
   "metadata": {},
   "outputs": [
    {
     "data": {
      "text/html": [
       "<div>\n",
       "<style scoped>\n",
       "    .dataframe tbody tr th:only-of-type {\n",
       "        vertical-align: middle;\n",
       "    }\n",
       "\n",
       "    .dataframe tbody tr th {\n",
       "        vertical-align: top;\n",
       "    }\n",
       "\n",
       "    .dataframe thead th {\n",
       "        text-align: right;\n",
       "    }\n",
       "</style>\n",
       "<table border=\"1\" class=\"dataframe\">\n",
       "  <thead>\n",
       "    <tr style=\"text-align: right;\">\n",
       "      <th></th>\n",
       "      <th>Title</th>\n",
       "      <th>Year</th>\n",
       "      <th>Genre</th>\n",
       "      <th>Actor</th>\n",
       "      <th>Avg_rating</th>\n",
       "      <th>Number_of_ratings</th>\n",
       "    </tr>\n",
       "  </thead>\n",
       "  <tbody>\n",
       "    <tr>\n",
       "      <th>0</th>\n",
       "      <td>Każdy wie lepiej</td>\n",
       "      <td>2022</td>\n",
       "      <td>Komedia obycz.</td>\n",
       "      <td>Joanna Kulig</td>\n",
       "      <td>4.7</td>\n",
       "      <td>1853</td>\n",
       "    </tr>\n",
       "    <tr>\n",
       "      <th>1</th>\n",
       "      <td>Każdy wie lepiej</td>\n",
       "      <td>2022</td>\n",
       "      <td>Komedia obycz.</td>\n",
       "      <td>Michał Czernecki</td>\n",
       "      <td>4.7</td>\n",
       "      <td>1853</td>\n",
       "    </tr>\n",
       "    <tr>\n",
       "      <th>2</th>\n",
       "      <td>Slow West</td>\n",
       "      <td>2015</td>\n",
       "      <td>Western</td>\n",
       "      <td>Kodi Smit-McPhee</td>\n",
       "      <td>6.7</td>\n",
       "      <td>18107</td>\n",
       "    </tr>\n",
       "    <tr>\n",
       "      <th>3</th>\n",
       "      <td>Slow West</td>\n",
       "      <td>2015</td>\n",
       "      <td>Western</td>\n",
       "      <td>Michael Fassbender</td>\n",
       "      <td>6.7</td>\n",
       "      <td>18107</td>\n",
       "    </tr>\n",
       "    <tr>\n",
       "      <th>4</th>\n",
       "      <td>Pod słońce</td>\n",
       "      <td>2005</td>\n",
       "      <td>Dramat</td>\n",
       "      <td>Claire Forlani</td>\n",
       "      <td>6.8</td>\n",
       "      <td>2300</td>\n",
       "    </tr>\n",
       "  </tbody>\n",
       "</table>\n",
       "</div>"
      ],
      "text/plain": [
       "              Title  Year           Genre               Actor  Avg_rating  \\\n",
       "0  Każdy wie lepiej  2022  Komedia obycz.        Joanna Kulig         4.7   \n",
       "1  Każdy wie lepiej  2022  Komedia obycz.    Michał Czernecki         4.7   \n",
       "2         Slow West  2015         Western    Kodi Smit-McPhee         6.7   \n",
       "3         Slow West  2015         Western  Michael Fassbender         6.7   \n",
       "4        Pod słońce  2005          Dramat      Claire Forlani         6.8   \n",
       "\n",
       "   Number_of_ratings  \n",
       "0               1853  \n",
       "1               1853  \n",
       "2              18107  \n",
       "3              18107  \n",
       "4               2300  "
      ]
     },
     "execution_count": 7,
     "metadata": {},
     "output_type": "execute_result"
    }
   ],
   "source": [
    "df2.head()"
   ]
  },
  {
   "cell_type": "markdown",
   "id": "bcb494d3",
   "metadata": {},
   "source": [
    "`df1` and `df2` will be saved to csv files. After running `clean_and_save_data`. For further analysis you can simply run `load_data` method"
   ]
  },
  {
   "cell_type": "code",
   "execution_count": 3,
   "id": "e455b116",
   "metadata": {},
   "outputs": [],
   "source": [
    "df1, df2 = load_data()"
   ]
  },
  {
   "cell_type": "code",
   "execution_count": 8,
   "id": "8d48fe66",
   "metadata": {},
   "outputs": [
    {
     "data": {
      "text/html": [
       "<div>\n",
       "<style scoped>\n",
       "    .dataframe tbody tr th:only-of-type {\n",
       "        vertical-align: middle;\n",
       "    }\n",
       "\n",
       "    .dataframe tbody tr th {\n",
       "        vertical-align: top;\n",
       "    }\n",
       "\n",
       "    .dataframe thead th {\n",
       "        text-align: right;\n",
       "    }\n",
       "</style>\n",
       "<table border=\"1\" class=\"dataframe\">\n",
       "  <thead>\n",
       "    <tr style=\"text-align: right;\">\n",
       "      <th></th>\n",
       "      <th>User</th>\n",
       "      <th>Title</th>\n",
       "      <th>Rating</th>\n",
       "    </tr>\n",
       "  </thead>\n",
       "  <tbody>\n",
       "    <tr>\n",
       "      <th>0</th>\n",
       "      <td>adam_lub</td>\n",
       "      <td>Każdy wie lepiej</td>\n",
       "      <td>6.0</td>\n",
       "    </tr>\n",
       "    <tr>\n",
       "      <th>1</th>\n",
       "      <td>adam_lub</td>\n",
       "      <td>Slow West</td>\n",
       "      <td>7.0</td>\n",
       "    </tr>\n",
       "    <tr>\n",
       "      <th>2</th>\n",
       "      <td>adam_lub</td>\n",
       "      <td>Pod słońce</td>\n",
       "      <td>7.0</td>\n",
       "    </tr>\n",
       "    <tr>\n",
       "      <th>3</th>\n",
       "      <td>adam_lub</td>\n",
       "      <td>Serce Jamajki</td>\n",
       "      <td>7.0</td>\n",
       "    </tr>\n",
       "    <tr>\n",
       "      <th>4</th>\n",
       "      <td>adam_lub</td>\n",
       "      <td>Eskorta</td>\n",
       "      <td>6.0</td>\n",
       "    </tr>\n",
       "  </tbody>\n",
       "</table>\n",
       "</div>"
      ],
      "text/plain": [
       "       User             Title  Rating\n",
       "0  adam_lub  Każdy wie lepiej     6.0\n",
       "1  adam_lub         Slow West     7.0\n",
       "2  adam_lub        Pod słońce     7.0\n",
       "3  adam_lub     Serce Jamajki     7.0\n",
       "4  adam_lub           Eskorta     6.0"
      ]
     },
     "execution_count": 8,
     "metadata": {},
     "output_type": "execute_result"
    }
   ],
   "source": [
    "df1.head()"
   ]
  },
  {
   "cell_type": "code",
   "execution_count": 9,
   "id": "65911835",
   "metadata": {},
   "outputs": [
    {
     "data": {
      "text/html": [
       "<div>\n",
       "<style scoped>\n",
       "    .dataframe tbody tr th:only-of-type {\n",
       "        vertical-align: middle;\n",
       "    }\n",
       "\n",
       "    .dataframe tbody tr th {\n",
       "        vertical-align: top;\n",
       "    }\n",
       "\n",
       "    .dataframe thead th {\n",
       "        text-align: right;\n",
       "    }\n",
       "</style>\n",
       "<table border=\"1\" class=\"dataframe\">\n",
       "  <thead>\n",
       "    <tr style=\"text-align: right;\">\n",
       "      <th></th>\n",
       "      <th>Title</th>\n",
       "      <th>Year</th>\n",
       "      <th>Genre</th>\n",
       "      <th>Actor</th>\n",
       "      <th>Avg_rating</th>\n",
       "      <th>Number_of_ratings</th>\n",
       "    </tr>\n",
       "  </thead>\n",
       "  <tbody>\n",
       "    <tr>\n",
       "      <th>0</th>\n",
       "      <td>Każdy wie lepiej</td>\n",
       "      <td>2022</td>\n",
       "      <td>Komedia obycz.</td>\n",
       "      <td>Joanna Kulig</td>\n",
       "      <td>4.7</td>\n",
       "      <td>1853</td>\n",
       "    </tr>\n",
       "    <tr>\n",
       "      <th>1</th>\n",
       "      <td>Każdy wie lepiej</td>\n",
       "      <td>2022</td>\n",
       "      <td>Komedia obycz.</td>\n",
       "      <td>Michał Czernecki</td>\n",
       "      <td>4.7</td>\n",
       "      <td>1853</td>\n",
       "    </tr>\n",
       "    <tr>\n",
       "      <th>2</th>\n",
       "      <td>Slow West</td>\n",
       "      <td>2015</td>\n",
       "      <td>Western</td>\n",
       "      <td>Kodi Smit-McPhee</td>\n",
       "      <td>6.7</td>\n",
       "      <td>18107</td>\n",
       "    </tr>\n",
       "    <tr>\n",
       "      <th>3</th>\n",
       "      <td>Slow West</td>\n",
       "      <td>2015</td>\n",
       "      <td>Western</td>\n",
       "      <td>Michael Fassbender</td>\n",
       "      <td>6.7</td>\n",
       "      <td>18107</td>\n",
       "    </tr>\n",
       "    <tr>\n",
       "      <th>4</th>\n",
       "      <td>Pod słońce</td>\n",
       "      <td>2005</td>\n",
       "      <td>Dramat</td>\n",
       "      <td>Claire Forlani</td>\n",
       "      <td>6.8</td>\n",
       "      <td>2300</td>\n",
       "    </tr>\n",
       "  </tbody>\n",
       "</table>\n",
       "</div>"
      ],
      "text/plain": [
       "              Title  Year           Genre               Actor  Avg_rating  \\\n",
       "0  Każdy wie lepiej  2022  Komedia obycz.        Joanna Kulig         4.7   \n",
       "1  Każdy wie lepiej  2022  Komedia obycz.    Michał Czernecki         4.7   \n",
       "2         Slow West  2015         Western    Kodi Smit-McPhee         6.7   \n",
       "3         Slow West  2015         Western  Michael Fassbender         6.7   \n",
       "4        Pod słońce  2005          Dramat      Claire Forlani         6.8   \n",
       "\n",
       "   Number_of_ratings  \n",
       "0               1853  \n",
       "1               1853  \n",
       "2              18107  \n",
       "3              18107  \n",
       "4               2300  "
      ]
     },
     "execution_count": 9,
     "metadata": {},
     "output_type": "execute_result"
    }
   ],
   "source": [
    "df2.head()"
   ]
  }
 ],
 "metadata": {
  "kernelspec": {
   "display_name": "aud",
   "language": "python",
   "name": "aud"
  },
  "language_info": {
   "codemirror_mode": {
    "name": "ipython",
    "version": 3
   },
   "file_extension": ".py",
   "mimetype": "text/x-python",
   "name": "python",
   "nbconvert_exporter": "python",
   "pygments_lexer": "ipython3",
   "version": "3.9.13"
  }
 },
 "nbformat": 4,
 "nbformat_minor": 5
}
