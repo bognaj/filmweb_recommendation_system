{
 "cells": [
  {
   "cell_type": "code",
   "execution_count": null,
   "id": "a6874014",
   "metadata": {},
   "outputs": [],
   "source": [
    "from data_import import clean_and_save_data, load_data"
   ]
  },
  {
   "cell_type": "markdown",
   "id": "e406bc49",
   "metadata": {},
   "source": [
    "# Data Preparation"
   ]
  },
  {
   "cell_type": "markdown",
   "id": "703fdd1c",
   "metadata": {},
   "source": [
    "Firstly, you have to properly process data from pickle files. Use `clean_and_save_data`"
   ]
  },
  {
   "cell_type": "code",
   "execution_count": null,
   "id": "4a59af6a",
   "metadata": {},
   "outputs": [],
   "source": [
    "df1, df2 = clean_and_save_data()"
   ]
  },
  {
   "cell_type": "code",
   "execution_count": null,
   "id": "2ff51b81",
   "metadata": {},
   "outputs": [],
   "source": [
    "df1.head()"
   ]
  },
  {
   "cell_type": "code",
   "execution_count": null,
   "id": "b334fb2a",
   "metadata": {},
   "outputs": [],
   "source": [
    "df2.head()"
   ]
  },
  {
   "cell_type": "markdown",
   "id": "bcb494d3",
   "metadata": {},
   "source": [
    "`df1` and `df2` will be saved to csv files. After running `clean_and_save_data`. For further analysis you can simply run `load_data` method"
   ]
  },
  {
   "cell_type": "code",
   "execution_count": null,
   "id": "e455b116",
   "metadata": {},
   "outputs": [],
   "source": [
    "df1, df2 = load_data()"
   ]
  },
  {
   "cell_type": "code",
   "execution_count": null,
   "id": "8d48fe66",
   "metadata": {},
   "outputs": [],
   "source": [
    "df1.head()"
   ]
  },
  {
   "cell_type": "code",
   "execution_count": null,
   "id": "65911835",
   "metadata": {},
   "outputs": [],
   "source": [
    "df2.head()"
   ]
  }
 ],
 "metadata": {
  "kernelspec": {
   "display_name": "Python 3.8.10 ('filmweb-recommendation-system-GVyfliQa-py3.8')",
   "language": "python",
   "name": "python3"
  },
  "language_info": {
   "codemirror_mode": {
    "name": "ipython",
    "version": 3
   },
   "file_extension": ".py",
   "mimetype": "text/x-python",
   "name": "python",
   "nbconvert_exporter": "python",
   "pygments_lexer": "ipython3",
   "version": "3.8.10"
  },
  "vscode": {
   "interpreter": {
    "hash": "8254b358732005ea123a8d085ce856acf9de004e7ea62cad06c98d209f30aebc"
   }
  }
 },
 "nbformat": 4,
 "nbformat_minor": 5
}
