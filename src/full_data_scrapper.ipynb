{
 "cells": [
  {
   "cell_type": "code",
   "execution_count": null,
   "id": "6f9010fa",
   "metadata": {},
   "outputs": [],
   "source": [
    "import os\n",
    "import requests\n",
    "from bs4 import BeautifulSoup\n",
    "from selenium.webdriver import *\n",
    "from selenium.webdriver.common.by import By\n",
    "import time\n",
    "from selenium.webdriver.chrome.options import Options\n",
    "from selenium.webdriver.support.ui import WebDriverWait\n",
    "from selenium.webdriver.support import expected_conditions as EC\n",
    "import pickle"
   ]
  },
  {
   "cell_type": "code",
   "execution_count": null,
   "id": "5561d614",
   "metadata": {},
   "outputs": [],
   "source": [
    "ID = \"id\"\n",
    "NAME = \"name\"\n",
    "XPATH = \"xpath\"\n",
    "LINK_TEXT = \"link text\"\n",
    "PARTIAL_LINK_TEXT = \"partial link text\"\n",
    "TAG_NAME = \"tag name\"\n",
    "CLASS_NAME = \"class name\"\n",
    "CSS_SELECTOR = \"css selector\""
   ]
  },
  {
   "cell_type": "code",
   "execution_count": null,
   "id": "d67c240f",
   "metadata": {},
   "outputs": [],
   "source": [
    "def create_browser():\n",
    "    \"\"\"\n",
    "    Function creating browser object.\n",
    "    \"\"\"\n",
    "    # add options to disable pop-ups\n",
    "    chrome_options = Options()\n",
    "    chrome_options.add_argument(\"--no-sandbox\")\n",
    "    chrome_options.add_argument('disable-notifications')\n",
    "    # return browser object\n",
    "    chrome = Chrome(options=chrome_options)\n",
    "    return chrome"
   ]
  },
  {
   "cell_type": "code",
   "execution_count": null,
   "id": "1fb3693c",
   "metadata": {},
   "outputs": [],
   "source": [
    "def get_user_page_first_time(chrome, user):\n",
    "    \"\"\"\n",
    "    Function loading the basic page.\n",
    "    \"\"\"\n",
    "    # load page\n",
    "    chrome.get(f\"https://www.filmweb.pl/user/{user}/films\")\n",
    "    # agree to terms of use\n",
    "    chrome.find_element(By.ID, 'didomi-notice-agree-button').click()\n",
    "    # wait until the advertisement ends\n",
    "    time.sleep(35)\n",
    "    chrome.maximize_window()\n",
    "    time.sleep(10)"
   ]
  },
  {
   "cell_type": "code",
   "execution_count": null,
   "id": "8624126f",
   "metadata": {},
   "outputs": [],
   "source": [
    "def get_user_page(chrome, user):\n",
    "    \"\"\"\n",
    "    Function to get the user page.\n",
    "    \"\"\"\n",
    "    # load page\n",
    "    chrome.get(f\"https://www.filmweb.pl/user/{user}/films\")\n",
    "    time.sleep(10)"
   ]
  },
  {
   "cell_type": "code",
   "execution_count": null,
   "id": "6cecd004",
   "metadata": {},
   "outputs": [],
   "source": [
    "def login_to_facebook(chrome, email, user_password):\n",
    "    \"\"\"\n",
    "    Function logging to Facebook.\n",
    "    \"\"\"\n",
    "    for i in range(20):\n",
    "        chrome.execute_script(f\"window.scrollBy(0,{i})\",\"\")\n",
    "        \n",
    "    chrome.find_element(By.CLASS_NAME, 'facebookLoginButton__button').click()\n",
    "    \n",
    "    # get window to scroll that showed up\n",
    "    scrollable = chrome.find_element(By.CLASS_NAME, '_4t2a')\n",
    "    chrome.execute_script(\"return arguments[0].scrollIntoView(true);\", scrollable)\n",
    "    chrome.execute_script(\"window.scrollTo(0, document.body.scrollHeight);\")\n",
    "    \n",
    "    # click whatever\n",
    "    button = chrome.find_element(By.CLASS_NAME, '_9xo5')\n",
    "    button.click()\n",
    "    \n",
    "    # get all elements needed to log in\n",
    "    login = chrome.find_element(By.ID, 'email')\n",
    "    password = chrome.find_element(By.ID, 'pass')\n",
    "    submit = chrome.find_element(By.ID, 'loginbutton')\n",
    "    \n",
    "    # enter credentials\n",
    "    # login.click()\n",
    "    login.send_keys(email)\n",
    "    # password.click()\n",
    "    password.send_keys(user_password)\n",
    "    \n",
    "    # click submit\n",
    "    submit.click()\n",
    "    \n",
    "    time.sleep(10)"
   ]
  },
  {
   "cell_type": "code",
   "execution_count": null,
   "id": "68d02d53",
   "metadata": {},
   "outputs": [],
   "source": [
    "def get_genres_and_actors(chrome):\n",
    "    div = chrome.find_elements(By.CLASS_NAME, 'preview__details')\n",
    "    all_films = []\n",
    "    for div_element in div:\n",
    "        per_film = div_element.find_elements(By.CSS_SELECTOR, 'a')\n",
    "        one_film_list = []\n",
    "        for att in per_film:\n",
    "            res = att.get_attribute('textContent')\n",
    "            one_film_list.append(res)\n",
    "        formatted = (tuple(one_film_list[:-2]), tuple(one_film_list[-2:]))\n",
    "        all_films.append(formatted)\n",
    "    return all_films"
   ]
  },
  {
   "cell_type": "code",
   "execution_count": null,
   "id": "919847c3",
   "metadata": {},
   "outputs": [],
   "source": [
    "def get_ratings(chrome, user):\n",
    "    \"\"\"\n",
    "    Function returning ratings from the first page.\n",
    "    \"\"\"\n",
    "    \n",
    "    # scroll down to load ratings\n",
    "    for i in range(1000):\n",
    "        chrome.execute_script(f\"window.scrollBy(0,{i})\",\"\")\n",
    "    \n",
    "    # get ratings\n",
    "    ratings = chrome.find_elements(By.CLASS_NAME, 'userRate__rate')\n",
    "    ratings_list = [r.get_attribute('textContent') for r in ratings]\n",
    "\n",
    "    # get film names\n",
    "    film_names = chrome.find_elements(By.CLASS_NAME, 'preview__link')\n",
    "    film_names_list = [f.get_attribute('textContent') for f in film_names]\n",
    "    \n",
    "    # get year of production\n",
    "    preview_years = chrome.find_elements(By.CLASS_NAME, 'preview__year')\n",
    "    preview_years_list = [p.get_attribute('textContent') for p in preview_years]\n",
    "    \n",
    "    # get genres and actors\n",
    "    genres_actors_list = get_genres_and_actors(chrome)\n",
    "    \n",
    "    # get community ratings\n",
    "    community_ratings = chrome.find_elements(By.CLASS_NAME, 'communityRatings__value')\n",
    "    community_ratings_list = [r.get_attribute('textContent').strip() for r in community_ratings]\n",
    "    community_ratings_list = community_ratings_list[::2]\n",
    "    \n",
    "    # number of ratings\n",
    "    community_ratings_number = chrome.find_elements(By.CLASS_NAME, 'communityRatings__description')\n",
    "    ratings_number_list = [r.get_attribute('textContent').strip() for r in community_ratings_number]\n",
    "    ratings_number_list = [i[:i.find('ocen')].replace(' ', '') for i in ratings_number_list]\n",
    "    ratings_number_list = list(filter(('chcezobaczy').__ne__, ratings_number_list))\n",
    "    \n",
    "    # add user name\n",
    "    user_name_list = len(ratings) * [user]\n",
    "    \n",
    "    # list of tuples\n",
    "    zipped_values = list(zip(user_name_list,\n",
    "                             film_names_list, \n",
    "                             preview_years_list,\n",
    "                             genres_actors_list,\n",
    "                             community_ratings_list,\n",
    "                             ratings_number_list,\n",
    "                             ratings_list))\n",
    "    \n",
    "    \n",
    "    \n",
    "    return zipped_values\n",
    "    "
   ]
  },
  {
   "cell_type": "code",
   "execution_count": null,
   "id": "c43d84f5",
   "metadata": {},
   "outputs": [],
   "source": [
    "def get_all_user_ratings(chrome, user, folder=None):\n",
    "    \"\"\"\n",
    "    Function returning all ratings of given user.\n",
    "    The results are written to pickle files.\n",
    "    \"\"\"\n",
    "    # get ratings from the first page\n",
    "    first = get_ratings(chrome, user)\n",
    "    print(first)\n",
    "    \n",
    "    # prepare placeholders for ratings\n",
    "    old = []\n",
    "    new = first\n",
    "    \n",
    "    # starting page number\n",
    "    page = 2\n",
    "    \n",
    "    # iterate as long as there are films ratings on the next pages\n",
    "    while (len(new) > 0) and (old != new):\n",
    "        print(page)\n",
    "        chrome.get(f\"https://www.filmweb.pl/user/{user}/films?page={page}\")\n",
    "        x = get_ratings(chrome, user)\n",
    "        print(x)\n",
    "        page += 1\n",
    "        old, new = old + new, x\n",
    "        \n",
    "    if len(old) > 0:\n",
    "        if folder is None:\n",
    "            with open(f\"{user}_full_data.pickle\", 'wb') as handle:\n",
    "                pickle.dump(old, handle, protocol=pickle.HIGHEST_PROTOCOL)\n",
    "        else:\n",
    "            if not folder in os.listdir():\n",
    "                os.mkdir(folder)\n",
    "            with open(os.sep.join([folder, f\"{user}_full_data.pickle\"]), 'wb') as handle:\n",
    "                pickle.dump(old, handle, protocol=pickle.HIGHEST_PROTOCOL)\n"
   ]
  },
  {
   "cell_type": "code",
   "execution_count": null,
   "id": "bb149476",
   "metadata": {},
   "outputs": [],
   "source": [
    "def get_user_friends(chrome, user):\n",
    "    \"\"\"\n",
    "    Function returning the list of user friends.\n",
    "    \"\"\"\n",
    "    chrome.get(f\"https://www.filmweb.pl/user/{user}/friends\")\n",
    "    friends = chrome.find_elements(By.CLASS_NAME, 'user__nick')\n",
    "    friends_list = [f.get_attribute('textContent').strip() for f in friends]\n",
    "    \n",
    "    return friends_list"
   ]
  },
  {
   "cell_type": "code",
   "execution_count": null,
   "id": "714dc0d3",
   "metadata": {},
   "outputs": [],
   "source": [
    "def get_ratings_for_all_friends(chrome, user, folder=None):\n",
    "    \"\"\"\n",
    "    Summary function: get all ratings for all friends.\n",
    "    \"\"\"\n",
    "    friends_list = get_user_friends(chrome, user)\n",
    "    for user in friends_list:\n",
    "        print(f\"Displaying results for user {user}\")\n",
    "        chrome.get(f\"https://www.filmweb.pl/user/{user}/films\")\n",
    "        get_all_user_ratings(chrome, user, folder)"
   ]
  },
  {
   "cell_type": "markdown",
   "id": "7bcea67b",
   "metadata": {},
   "source": [
    "# SCRAPPING YOURSELF AND YOUR FRIENDS"
   ]
  },
  {
   "cell_type": "code",
   "execution_count": null,
   "id": "7b37f017",
   "metadata": {},
   "outputs": [],
   "source": [
    "# EXAMPLE USE\n",
    "\n",
    "# 1. create browser object.\n",
    "chrome = create_browser()\n",
    "\n",
    "# 2. load the first page, accept usage terms etc.\n",
    "get_user_page_first_time(chrome, \"nerwusxd\")\n",
    "\n",
    "# 3. login to Facebook. In case it fails, just do it by hand in this special browser window.\n",
    "login_to_facebook(chrome, \"nerwusxd@gmail.com\", \"c4c1416y5\")\n",
    "\n",
    "# 4. congrats! you are ready to get the records\n",
    "get_ratings_for_all_friends(chrome, \"nerwusxd\", \"data\")\n",
    "\n",
    "# 5. if something fails in between, you can get records just for one user\n",
    "#get_all_user_ratings(chrome, user)"
   ]
  },
  {
   "cell_type": "markdown",
   "id": "40b1af73",
   "metadata": {},
   "source": [
    "# SCRAPPING TOP 500 USERS"
   ]
  },
  {
   "cell_type": "code",
   "execution_count": null,
   "id": "1f11e0f1",
   "metadata": {},
   "outputs": [],
   "source": [
    "def get_most_active_users_one_page(chrome, page):\n",
    "    if page == 1:\n",
    "        chrome.get('https://www.filmweb.pl/users/ranking/usersMonthly')\n",
    "    else:\n",
    "        chrome.get(f\"https://www.filmweb.pl/users/ranking/usersMonthly?page={page}\")\n",
    "    friends = chrome.find_elements(By.CLASS_NAME, 'rankingList__userName')\n",
    "    friends_list = [f.get_attribute('textContent').strip() for f in friends]\n",
    "    return friends_list"
   ]
  },
  {
   "cell_type": "code",
   "execution_count": null,
   "id": "73debae4",
   "metadata": {},
   "outputs": [],
   "source": [
    "def get_500_most_active_users(chrome):\n",
    "    users_list = []\n",
    "    for page_num in range(10):\n",
    "        users_per_page = get_most_active_users_one_page(chrome, page_num + 1)\n",
    "        users_list = users_list + users_per_page\n",
    "    return users_list"
   ]
  },
  {
   "cell_type": "code",
   "execution_count": null,
   "id": "cf391585",
   "metadata": {},
   "outputs": [],
   "source": [
    "active_500_users = get_500_most_active_users(chrome)\n",
    "\n",
    "for user in active_500_users:\n",
    "    get_user_page(chrome, user)\n",
    "    print(f\"Displaying results for user {user}\")\n",
    "    ratings = get_ratings(chrome, user)\n",
    "    with open(f\"{user}_full_data.pickle\", 'wb') as handle:\n",
    "        pickle.dump(ratings, handle, protocol=pickle.HIGHEST_PROTOCOL)"
   ]
  },
  {
   "cell_type": "code",
   "execution_count": null,
   "id": "c4d60b87",
   "metadata": {},
   "outputs": [],
   "source": []
  }
 ],
 "metadata": {
  "kernelspec": {
   "display_name": "Python 3.8.10 ('filmweb-recommendation-system-GVyfliQa-py3.8')",
   "language": "python",
   "name": "python3"
  },
  "language_info": {
   "codemirror_mode": {
    "name": "ipython",
    "version": 3
   },
   "file_extension": ".py",
   "mimetype": "text/x-python",
   "name": "python",
   "nbconvert_exporter": "python",
   "pygments_lexer": "ipython3",
   "version": "3.8.10"
  },
  "vscode": {
   "interpreter": {
    "hash": "8254b358732005ea123a8d085ce856acf9de004e7ea62cad06c98d209f30aebc"
   }
  }
 },
 "nbformat": 4,
 "nbformat_minor": 5
}
